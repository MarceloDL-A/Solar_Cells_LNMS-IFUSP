{
 "cells": [
  {
   "cell_type": "code",
   "execution_count": 231,
   "source": [
    "import numpy as np\r\n",
    "import sympy as smp\r\n",
    "from sympy.vector import *\r\n",
    "import matplotlib.pyplot as plt\r\n",
    "from scipy.integrate import quad\r\n",
    "from scipy.integrate import quad_vec"
   ],
   "outputs": [],
   "metadata": {}
  },
  {
   "cell_type": "code",
   "execution_count": 232,
   "source": [
    "x, y, z, u1, u2, u3, v1, v2, v3, t = smp.symbols('x y z u_1 u_2 u_3 v_1 v_2 v_3 t')"
   ],
   "outputs": [],
   "metadata": {}
  },
  {
   "cell_type": "markdown",
   "source": [
    "# Vectors and Geometry"
   ],
   "metadata": {}
  },
  {
   "cell_type": "markdown",
   "source": [
    "Numerical or symbolic"
   ],
   "metadata": {}
  },
  {
   "cell_type": "code",
   "execution_count": 233,
   "source": [
    "a = np.array([1,2,3])\r\n",
    "b = np.array([7,8,9])\r\n",
    "u = smp.Matrix([u1,u2,u3])\r\n",
    "v = smp.Matrix([v1,v2,v3])"
   ],
   "outputs": [],
   "metadata": {}
  },
  {
   "cell_type": "markdown",
   "source": [
    "## Addition and multiplication"
   ],
   "metadata": {}
  },
  {
   "cell_type": "code",
   "execution_count": 234,
   "source": [
    "2*a+b"
   ],
   "outputs": [
    {
     "output_type": "execute_result",
     "data": {
      "text/plain": [
       "array([ 9, 12, 15])"
      ]
     },
     "metadata": {},
     "execution_count": 234
    }
   ],
   "metadata": {}
  },
  {
   "cell_type": "code",
   "execution_count": 235,
   "source": [
    "2*u+v"
   ],
   "outputs": [
    {
     "output_type": "execute_result",
     "data": {
      "text/plain": [
       "Matrix([\n",
       "[2*u_1 + v_1],\n",
       "[2*u_2 + v_2],\n",
       "[2*u_3 + v_3]])"
      ],
      "text/latex": [
       "$\\displaystyle \\left[\\begin{matrix}2 u_{1} + v_{1}\\\\2 u_{2} + v_{2}\\\\2 u_{3} + v_{3}\\end{matrix}\\right]$"
      ]
     },
     "metadata": {},
     "execution_count": 235
    }
   ],
   "metadata": {}
  },
  {
   "cell_type": "markdown",
   "source": [
    "## Dot products"
   ],
   "metadata": {}
  },
  {
   "cell_type": "code",
   "execution_count": 236,
   "source": [
    "np.dot(a, b)"
   ],
   "outputs": [
    {
     "output_type": "execute_result",
     "data": {
      "text/plain": [
       "50"
      ]
     },
     "metadata": {},
     "execution_count": 236
    }
   ],
   "metadata": {}
  },
  {
   "cell_type": "code",
   "execution_count": 237,
   "source": [
    "u.dot(v)"
   ],
   "outputs": [
    {
     "output_type": "execute_result",
     "data": {
      "text/plain": [
       "u_1*v_1 + u_2*v_2 + u_3*v_3"
      ],
      "text/latex": [
       "$\\displaystyle u_{1} v_{1} + u_{2} v_{2} + u_{3} v_{3}$"
      ]
     },
     "metadata": {},
     "execution_count": 237
    }
   ],
   "metadata": {}
  },
  {
   "cell_type": "markdown",
   "source": [
    "## Cross products"
   ],
   "metadata": {}
  },
  {
   "cell_type": "code",
   "execution_count": 238,
   "source": [
    "np.cross(a,b)"
   ],
   "outputs": [
    {
     "output_type": "execute_result",
     "data": {
      "text/plain": [
       "array([-6, 12, -6])"
      ]
     },
     "metadata": {},
     "execution_count": 238
    }
   ],
   "metadata": {}
  },
  {
   "cell_type": "code",
   "execution_count": 239,
   "source": [
    "u.cross(v)"
   ],
   "outputs": [
    {
     "output_type": "execute_result",
     "data": {
      "text/plain": [
       "Matrix([\n",
       "[ u_2*v_3 - u_3*v_2],\n",
       "[-u_1*v_3 + u_3*v_1],\n",
       "[ u_1*v_2 - u_2*v_1]])"
      ],
      "text/latex": [
       "$\\displaystyle \\left[\\begin{matrix}u_{2} v_{3} - u_{3} v_{2}\\\\- u_{1} v_{3} + u_{3} v_{1}\\\\u_{1} v_{2} - u_{2} v_{1}\\end{matrix}\\right]$"
      ]
     },
     "metadata": {},
     "execution_count": 239
    }
   ],
   "metadata": {}
  },
  {
   "cell_type": "markdown",
   "source": [
    "## Length of vector"
   ],
   "metadata": {}
  },
  {
   "cell_type": "code",
   "execution_count": 240,
   "source": [
    "np.linalg.norm(a)"
   ],
   "outputs": [
    {
     "output_type": "execute_result",
     "data": {
      "text/plain": [
       "3.7416573867739413"
      ]
     },
     "metadata": {},
     "execution_count": 240
    }
   ],
   "metadata": {}
  },
  {
   "cell_type": "code",
   "execution_count": 241,
   "source": [
    "u.norm()"
   ],
   "outputs": [
    {
     "output_type": "execute_result",
     "data": {
      "text/plain": [
       "sqrt(Abs(u_1)**2 + Abs(u_2)**2 + Abs(u_3)**2)"
      ],
      "text/latex": [
       "$\\displaystyle \\sqrt{\\left|{u_{1}}\\right|^{2} + \\left|{u_{2}}\\right|^{2} + \\left|{u_{3}}\\right|^{2}}$"
      ]
     },
     "metadata": {},
     "execution_count": 241
    }
   ],
   "metadata": {}
  },
  {
   "cell_type": "markdown",
   "source": [
    "## Vector projection\n",
    "\n",
    "$\\text{proj}_v(u) = \\frac{u \\cdot v}{|v|^2} v$"
   ],
   "metadata": {}
  },
  {
   "cell_type": "code",
   "execution_count": 242,
   "source": [
    "proj_b_a = np.dot(a,b)/np.linalg.norm(b)**2 * b\r\n",
    "proj_b_a"
   ],
   "outputs": [
    {
     "output_type": "execute_result",
     "data": {
      "text/plain": [
       "array([1.80412371, 2.06185567, 2.31958763])"
      ]
     },
     "metadata": {},
     "execution_count": 242
    }
   ],
   "metadata": {}
  },
  {
   "cell_type": "code",
   "execution_count": 243,
   "source": [
    "proj_v_u = u.dot(v)/v.norm()**2 * v\r\n",
    "proj_v_u"
   ],
   "outputs": [
    {
     "output_type": "execute_result",
     "data": {
      "text/plain": [
       "Matrix([\n",
       "[v_1*(u_1*v_1 + u_2*v_2 + u_3*v_3)/(Abs(v_1)**2 + Abs(v_2)**2 + Abs(v_3)**2)],\n",
       "[v_2*(u_1*v_1 + u_2*v_2 + u_3*v_3)/(Abs(v_1)**2 + Abs(v_2)**2 + Abs(v_3)**2)],\n",
       "[v_3*(u_1*v_1 + u_2*v_2 + u_3*v_3)/(Abs(v_1)**2 + Abs(v_2)**2 + Abs(v_3)**2)]])"
      ],
      "text/latex": [
       "$\\displaystyle \\left[\\begin{matrix}\\frac{v_{1} \\left(u_{1} v_{1} + u_{2} v_{2} + u_{3} v_{3}\\right)}{\\left|{v_{1}}\\right|^{2} + \\left|{v_{2}}\\right|^{2} + \\left|{v_{3}}\\right|^{2}}\\\\\\frac{v_{2} \\left(u_{1} v_{1} + u_{2} v_{2} + u_{3} v_{3}\\right)}{\\left|{v_{1}}\\right|^{2} + \\left|{v_{2}}\\right|^{2} + \\left|{v_{3}}\\right|^{2}}\\\\\\frac{v_{3} \\left(u_{1} v_{1} + u_{2} v_{2} + u_{3} v_{3}\\right)}{\\left|{v_{1}}\\right|^{2} + \\left|{v_{2}}\\right|^{2} + \\left|{v_{3}}\\right|^{2}}\\end{matrix}\\right]$"
      ]
     },
     "metadata": {},
     "execution_count": 243
    }
   ],
   "metadata": {}
  },
  {
   "cell_type": "markdown",
   "source": [
    "## Lines/Planes in Space\n",
    "\n",
    "Lines: $\\vec{r}(t) = \\vec{r}_0 + t\\vec{v}$"
   ],
   "metadata": {}
  },
  {
   "cell_type": "code",
   "execution_count": 244,
   "source": [
    "r0 = smp.Matrix([1,1,1])\r\n",
    "v = smp.Matrix([1,3,-1])\r\n",
    "r = r0 + t*v\r\n",
    "r"
   ],
   "outputs": [
    {
     "output_type": "execute_result",
     "data": {
      "text/plain": [
       "Matrix([\n",
       "[  t + 1],\n",
       "[3*t + 1],\n",
       "[  1 - t]])"
      ],
      "text/latex": [
       "$\\displaystyle \\left[\\begin{matrix}t + 1\\\\3 t + 1\\\\1 - t\\end{matrix}\\right]$"
      ]
     },
     "metadata": {},
     "execution_count": 244
    }
   ],
   "metadata": {}
  },
  {
   "cell_type": "markdown",
   "source": [
    "Planes: $\\vec{n} \\cdot (P_0-\\left<x,y,z\\right>) = 0$"
   ],
   "metadata": {}
  },
  {
   "cell_type": "code",
   "execution_count": 245,
   "source": [
    "P0 = smp.Matrix([4,4,8])\r\n",
    "r = smp.Matrix([x,y,z])\r\n",
    "n = smp.Matrix([1,1,1])\r\n",
    "n.dot(P0-r)"
   ],
   "outputs": [
    {
     "output_type": "execute_result",
     "data": {
      "text/plain": [
       "-x - y - z + 16"
      ],
      "text/latex": [
       "$\\displaystyle - x - y - z + 16$"
      ]
     },
     "metadata": {},
     "execution_count": 245
    }
   ],
   "metadata": {}
  },
  {
   "cell_type": "markdown",
   "source": [
    "**Examples** Find vector parallel to the line of intersection of the two planes $3x-6y-2z = 15$ and $2x+y-2z=5$. (It's  going to be perpendicular to both normal vectors)"
   ],
   "metadata": {}
  },
  {
   "cell_type": "code",
   "execution_count": 246,
   "source": [
    "n1 = np.array([-3,6,2])\r\n",
    "n2 = np.array([-2,-1,2])\r\n",
    "ans = np.cross(n1,n2)\r\n",
    "ans"
   ],
   "outputs": [
    {
     "output_type": "execute_result",
     "data": {
      "text/plain": [
       "array([14,  2, 15])"
      ]
     },
     "metadata": {},
     "execution_count": 246
    }
   ],
   "metadata": {}
  },
  {
   "cell_type": "markdown",
   "source": [
    "# Vector Calculus"
   ],
   "metadata": {}
  },
  {
   "cell_type": "markdown",
   "source": [
    "## Vector Derivatives"
   ],
   "metadata": {}
  },
  {
   "cell_type": "code",
   "execution_count": 247,
   "source": [
    "r = smp.Matrix([3*t, smp.sin(t), t**2])\r\n",
    "r"
   ],
   "outputs": [
    {
     "output_type": "execute_result",
     "data": {
      "text/plain": [
       "Matrix([\n",
       "[   3*t],\n",
       "[sin(t)],\n",
       "[  t**2]])"
      ],
      "text/latex": [
       "$\\displaystyle \\left[\\begin{matrix}3 t\\\\\\sin{\\left(t \\right)}\\\\t^{2}\\end{matrix}\\right]$"
      ]
     },
     "metadata": {},
     "execution_count": 247
    }
   ],
   "metadata": {}
  },
  {
   "cell_type": "code",
   "execution_count": 248,
   "source": [
    "smp.diff(r,t)"
   ],
   "outputs": [
    {
     "output_type": "execute_result",
     "data": {
      "text/plain": [
       "Matrix([\n",
       "[     3],\n",
       "[cos(t)],\n",
       "[   2*t]])"
      ],
      "text/latex": [
       "$\\displaystyle \\left[\\begin{matrix}3\\\\\\cos{\\left(t \\right)}\\\\2 t\\end{matrix}\\right]$"
      ]
     },
     "metadata": {},
     "execution_count": 248
    }
   ],
   "metadata": {}
  },
  {
   "cell_type": "markdown",
   "source": [
    "Example: Find the angle between the velocity and acceleration as a function of time $\\theta(t)$"
   ],
   "metadata": {}
  },
  {
   "cell_type": "code",
   "execution_count": 249,
   "source": [
    "v = smp.diff(r,t)\r\n",
    "a = smp.diff(v,t)\r\n",
    "theta = smp.acos(v.dot(a)/(v.norm()*a.norm())).simplify()"
   ],
   "outputs": [],
   "metadata": {}
  },
  {
   "cell_type": "code",
   "execution_count": 250,
   "source": [
    "theta"
   ],
   "outputs": [
    {
     "output_type": "execute_result",
     "data": {
      "text/plain": [
       "acos((4*t - sin(2*t)/2)/(sqrt(Abs(sin(t))**2 + 4)*sqrt(4*Abs(t)**2 + Abs(cos(t))**2 + 9)))"
      ],
      "text/latex": [
       "$\\displaystyle \\operatorname{acos}{\\left(\\frac{4 t - \\frac{\\sin{\\left(2 t \\right)}}{2}}{\\sqrt{\\left|{\\sin{\\left(t \\right)}}\\right|^{2} + 4} \\sqrt{4 \\left|{t}\\right|^{2} + \\left|{\\cos{\\left(t \\right)}}\\right|^{2} + 9}} \\right)}$"
      ]
     },
     "metadata": {},
     "execution_count": 250
    }
   ],
   "metadata": {}
  },
  {
   "cell_type": "code",
   "execution_count": 251,
   "source": [
    "theta.subs(t,6).evalf()"
   ],
   "outputs": [
    {
     "output_type": "execute_result",
     "data": {
      "text/plain": [
       "0.251108015692338"
      ],
      "text/latex": [
       "$\\displaystyle 0.251108015692338$"
      ]
     },
     "metadata": {},
     "execution_count": 251
    }
   ],
   "metadata": {}
  },
  {
   "cell_type": "code",
   "execution_count": 252,
   "source": [
    "tt = np.linspace(0, 10, 100)\r\n",
    "aa = smp.lambdify([t], theta)(tt)\r\n",
    "plt.plot(tt,aa)\r\n",
    "plt.xlabel('$t$', fontsize=20)\r\n",
    "plt.ylabel(r'$\\theta(t)$', fontsize=20)\r\n",
    "plt.show()"
   ],
   "outputs": [
    {
     "output_type": "display_data",
     "data": {
      "text/plain": [
       "<Figure size 432x288 with 1 Axes>"
      ],
      "image/svg+xml": "<?xml version=\"1.0\" encoding=\"utf-8\" standalone=\"no\"?>\r\n<!DOCTYPE svg PUBLIC \"-//W3C//DTD SVG 1.1//EN\"\r\n  \"http://www.w3.org/Graphics/SVG/1.1/DTD/svg11.dtd\">\r\n<svg height=\"271.874375pt\" version=\"1.1\" viewBox=\"0 0 395.459375 271.874375\" width=\"395.459375pt\" xmlns=\"http://www.w3.org/2000/svg\" xmlns:xlink=\"http://www.w3.org/1999/xlink\">\r\n <metadata>\r\n  <rdf:RDF xmlns:cc=\"http://creativecommons.org/ns#\" xmlns:dc=\"http://purl.org/dc/elements/1.1/\" xmlns:rdf=\"http://www.w3.org/1999/02/22-rdf-syntax-ns#\">\r\n   <cc:Work>\r\n    <dc:type rdf:resource=\"http://purl.org/dc/dcmitype/StillImage\"/>\r\n    <dc:date>2021-08-24T20:43:27.379481</dc:date>\r\n    <dc:format>image/svg+xml</dc:format>\r\n    <dc:creator>\r\n     <cc:Agent>\r\n      <dc:title>Matplotlib v3.4.3, https://matplotlib.org/</dc:title>\r\n     </cc:Agent>\r\n    </dc:creator>\r\n   </cc:Work>\r\n  </rdf:RDF>\r\n </metadata>\r\n <defs>\r\n  <style type=\"text/css\">*{stroke-linecap:butt;stroke-linejoin:round;}</style>\r\n </defs>\r\n <g id=\"figure_1\">\r\n  <g id=\"patch_1\">\r\n   <path d=\"M 0 271.874375 \r\nL 395.459375 271.874375 \r\nL 395.459375 0 \r\nL 0 0 \r\nz\r\n\" style=\"fill:none;\"/>\r\n  </g>\r\n  <g id=\"axes_1\">\r\n   <g id=\"patch_2\">\r\n    <path d=\"M 53.459375 224.64 \r\nL 388.259375 224.64 \r\nL 388.259375 7.2 \r\nL 53.459375 7.2 \r\nz\r\n\" style=\"fill:#ffffff;\"/>\r\n   </g>\r\n   <g id=\"matplotlib.axis_1\">\r\n    <g id=\"xtick_1\">\r\n     <g id=\"line2d_1\">\r\n      <defs>\r\n       <path d=\"M 0 0 \r\nL 0 3.5 \r\n\" id=\"m9099f7ffa9\" style=\"stroke:#000000;stroke-width:0.8;\"/>\r\n      </defs>\r\n      <g>\r\n       <use style=\"stroke:#000000;stroke-width:0.8;\" x=\"68.677557\" xlink:href=\"#m9099f7ffa9\" y=\"224.64\"/>\r\n      </g>\r\n     </g>\r\n     <g id=\"text_1\">\r\n      <!-- 0 -->\r\n      <g transform=\"translate(65.496307 239.238437)scale(0.1 -0.1)\">\r\n       <defs>\r\n        <path d=\"M 2034 4250 \r\nQ 1547 4250 1301 3770 \r\nQ 1056 3291 1056 2328 \r\nQ 1056 1369 1301 889 \r\nQ 1547 409 2034 409 \r\nQ 2525 409 2770 889 \r\nQ 3016 1369 3016 2328 \r\nQ 3016 3291 2770 3770 \r\nQ 2525 4250 2034 4250 \r\nz\r\nM 2034 4750 \r\nQ 2819 4750 3233 4129 \r\nQ 3647 3509 3647 2328 \r\nQ 3647 1150 3233 529 \r\nQ 2819 -91 2034 -91 \r\nQ 1250 -91 836 529 \r\nQ 422 1150 422 2328 \r\nQ 422 3509 836 4129 \r\nQ 1250 4750 2034 4750 \r\nz\r\n\" id=\"DejaVuSans-30\" transform=\"scale(0.015625)\"/>\r\n       </defs>\r\n       <use xlink:href=\"#DejaVuSans-30\"/>\r\n      </g>\r\n     </g>\r\n    </g>\r\n    <g id=\"xtick_2\">\r\n     <g id=\"line2d_2\">\r\n      <g>\r\n       <use style=\"stroke:#000000;stroke-width:0.8;\" x=\"129.550284\" xlink:href=\"#m9099f7ffa9\" y=\"224.64\"/>\r\n      </g>\r\n     </g>\r\n     <g id=\"text_2\">\r\n      <!-- 2 -->\r\n      <g transform=\"translate(126.369034 239.238437)scale(0.1 -0.1)\">\r\n       <defs>\r\n        <path d=\"M 1228 531 \r\nL 3431 531 \r\nL 3431 0 \r\nL 469 0 \r\nL 469 531 \r\nQ 828 903 1448 1529 \r\nQ 2069 2156 2228 2338 \r\nQ 2531 2678 2651 2914 \r\nQ 2772 3150 2772 3378 \r\nQ 2772 3750 2511 3984 \r\nQ 2250 4219 1831 4219 \r\nQ 1534 4219 1204 4116 \r\nQ 875 4013 500 3803 \r\nL 500 4441 \r\nQ 881 4594 1212 4672 \r\nQ 1544 4750 1819 4750 \r\nQ 2544 4750 2975 4387 \r\nQ 3406 4025 3406 3419 \r\nQ 3406 3131 3298 2873 \r\nQ 3191 2616 2906 2266 \r\nQ 2828 2175 2409 1742 \r\nQ 1991 1309 1228 531 \r\nz\r\n\" id=\"DejaVuSans-32\" transform=\"scale(0.015625)\"/>\r\n       </defs>\r\n       <use xlink:href=\"#DejaVuSans-32\"/>\r\n      </g>\r\n     </g>\r\n    </g>\r\n    <g id=\"xtick_3\">\r\n     <g id=\"line2d_3\">\r\n      <g>\r\n       <use style=\"stroke:#000000;stroke-width:0.8;\" x=\"190.423011\" xlink:href=\"#m9099f7ffa9\" y=\"224.64\"/>\r\n      </g>\r\n     </g>\r\n     <g id=\"text_3\">\r\n      <!-- 4 -->\r\n      <g transform=\"translate(187.241761 239.238437)scale(0.1 -0.1)\">\r\n       <defs>\r\n        <path d=\"M 2419 4116 \r\nL 825 1625 \r\nL 2419 1625 \r\nL 2419 4116 \r\nz\r\nM 2253 4666 \r\nL 3047 4666 \r\nL 3047 1625 \r\nL 3713 1625 \r\nL 3713 1100 \r\nL 3047 1100 \r\nL 3047 0 \r\nL 2419 0 \r\nL 2419 1100 \r\nL 313 1100 \r\nL 313 1709 \r\nL 2253 4666 \r\nz\r\n\" id=\"DejaVuSans-34\" transform=\"scale(0.015625)\"/>\r\n       </defs>\r\n       <use xlink:href=\"#DejaVuSans-34\"/>\r\n      </g>\r\n     </g>\r\n    </g>\r\n    <g id=\"xtick_4\">\r\n     <g id=\"line2d_4\">\r\n      <g>\r\n       <use style=\"stroke:#000000;stroke-width:0.8;\" x=\"251.295739\" xlink:href=\"#m9099f7ffa9\" y=\"224.64\"/>\r\n      </g>\r\n     </g>\r\n     <g id=\"text_4\">\r\n      <!-- 6 -->\r\n      <g transform=\"translate(248.114489 239.238437)scale(0.1 -0.1)\">\r\n       <defs>\r\n        <path d=\"M 2113 2584 \r\nQ 1688 2584 1439 2293 \r\nQ 1191 2003 1191 1497 \r\nQ 1191 994 1439 701 \r\nQ 1688 409 2113 409 \r\nQ 2538 409 2786 701 \r\nQ 3034 994 3034 1497 \r\nQ 3034 2003 2786 2293 \r\nQ 2538 2584 2113 2584 \r\nz\r\nM 3366 4563 \r\nL 3366 3988 \r\nQ 3128 4100 2886 4159 \r\nQ 2644 4219 2406 4219 \r\nQ 1781 4219 1451 3797 \r\nQ 1122 3375 1075 2522 \r\nQ 1259 2794 1537 2939 \r\nQ 1816 3084 2150 3084 \r\nQ 2853 3084 3261 2657 \r\nQ 3669 2231 3669 1497 \r\nQ 3669 778 3244 343 \r\nQ 2819 -91 2113 -91 \r\nQ 1303 -91 875 529 \r\nQ 447 1150 447 2328 \r\nQ 447 3434 972 4092 \r\nQ 1497 4750 2381 4750 \r\nQ 2619 4750 2861 4703 \r\nQ 3103 4656 3366 4563 \r\nz\r\n\" id=\"DejaVuSans-36\" transform=\"scale(0.015625)\"/>\r\n       </defs>\r\n       <use xlink:href=\"#DejaVuSans-36\"/>\r\n      </g>\r\n     </g>\r\n    </g>\r\n    <g id=\"xtick_5\">\r\n     <g id=\"line2d_5\">\r\n      <g>\r\n       <use style=\"stroke:#000000;stroke-width:0.8;\" x=\"312.168466\" xlink:href=\"#m9099f7ffa9\" y=\"224.64\"/>\r\n      </g>\r\n     </g>\r\n     <g id=\"text_5\">\r\n      <!-- 8 -->\r\n      <g transform=\"translate(308.987216 239.238437)scale(0.1 -0.1)\">\r\n       <defs>\r\n        <path d=\"M 2034 2216 \r\nQ 1584 2216 1326 1975 \r\nQ 1069 1734 1069 1313 \r\nQ 1069 891 1326 650 \r\nQ 1584 409 2034 409 \r\nQ 2484 409 2743 651 \r\nQ 3003 894 3003 1313 \r\nQ 3003 1734 2745 1975 \r\nQ 2488 2216 2034 2216 \r\nz\r\nM 1403 2484 \r\nQ 997 2584 770 2862 \r\nQ 544 3141 544 3541 \r\nQ 544 4100 942 4425 \r\nQ 1341 4750 2034 4750 \r\nQ 2731 4750 3128 4425 \r\nQ 3525 4100 3525 3541 \r\nQ 3525 3141 3298 2862 \r\nQ 3072 2584 2669 2484 \r\nQ 3125 2378 3379 2068 \r\nQ 3634 1759 3634 1313 \r\nQ 3634 634 3220 271 \r\nQ 2806 -91 2034 -91 \r\nQ 1263 -91 848 271 \r\nQ 434 634 434 1313 \r\nQ 434 1759 690 2068 \r\nQ 947 2378 1403 2484 \r\nz\r\nM 1172 3481 \r\nQ 1172 3119 1398 2916 \r\nQ 1625 2713 2034 2713 \r\nQ 2441 2713 2670 2916 \r\nQ 2900 3119 2900 3481 \r\nQ 2900 3844 2670 4047 \r\nQ 2441 4250 2034 4250 \r\nQ 1625 4250 1398 4047 \r\nQ 1172 3844 1172 3481 \r\nz\r\n\" id=\"DejaVuSans-38\" transform=\"scale(0.015625)\"/>\r\n       </defs>\r\n       <use xlink:href=\"#DejaVuSans-38\"/>\r\n      </g>\r\n     </g>\r\n    </g>\r\n    <g id=\"xtick_6\">\r\n     <g id=\"line2d_6\">\r\n      <g>\r\n       <use style=\"stroke:#000000;stroke-width:0.8;\" x=\"373.041193\" xlink:href=\"#m9099f7ffa9\" y=\"224.64\"/>\r\n      </g>\r\n     </g>\r\n     <g id=\"text_6\">\r\n      <!-- 10 -->\r\n      <g transform=\"translate(366.678693 239.238437)scale(0.1 -0.1)\">\r\n       <defs>\r\n        <path d=\"M 794 531 \r\nL 1825 531 \r\nL 1825 4091 \r\nL 703 3866 \r\nL 703 4441 \r\nL 1819 4666 \r\nL 2450 4666 \r\nL 2450 531 \r\nL 3481 531 \r\nL 3481 0 \r\nL 794 0 \r\nL 794 531 \r\nz\r\n\" id=\"DejaVuSans-31\" transform=\"scale(0.015625)\"/>\r\n       </defs>\r\n       <use xlink:href=\"#DejaVuSans-31\"/>\r\n       <use x=\"63.623047\" xlink:href=\"#DejaVuSans-30\"/>\r\n      </g>\r\n     </g>\r\n    </g>\r\n    <g id=\"text_7\">\r\n     <!-- $t$ -->\r\n     <g transform=\"translate(216.859375 260.515)scale(0.2 -0.2)\">\r\n      <defs>\r\n       <path d=\"M 2706 3500 \r\nL 2619 3053 \r\nL 1472 3053 \r\nL 1100 1153 \r\nQ 1081 1047 1072 975 \r\nQ 1063 903 1063 863 \r\nQ 1063 663 1183 572 \r\nQ 1303 481 1569 481 \r\nL 2150 481 \r\nL 2053 0 \r\nL 1503 0 \r\nQ 991 0 739 200 \r\nQ 488 400 488 806 \r\nQ 488 878 497 964 \r\nQ 506 1050 525 1153 \r\nL 897 3053 \r\nL 409 3053 \r\nL 500 3500 \r\nL 978 3500 \r\nL 1172 4494 \r\nL 1747 4494 \r\nL 1556 3500 \r\nL 2706 3500 \r\nz\r\n\" id=\"DejaVuSans-Oblique-74\" transform=\"scale(0.015625)\"/>\r\n      </defs>\r\n      <use transform=\"translate(0 0.78125)\" xlink:href=\"#DejaVuSans-Oblique-74\"/>\r\n     </g>\r\n    </g>\r\n   </g>\r\n   <g id=\"matplotlib.axis_2\">\r\n    <g id=\"ytick_1\">\r\n     <g id=\"line2d_7\">\r\n      <defs>\r\n       <path d=\"M 0 0 \r\nL -3.5 0 \r\n\" id=\"mbbe8226348\" style=\"stroke:#000000;stroke-width:0.8;\"/>\r\n      </defs>\r\n      <g>\r\n       <use style=\"stroke:#000000;stroke-width:0.8;\" x=\"53.459375\" xlink:href=\"#mbbe8226348\" y=\"209.190196\"/>\r\n      </g>\r\n     </g>\r\n     <g id=\"text_8\">\r\n      <!-- 0.2 -->\r\n      <g transform=\"translate(30.55625 212.989414)scale(0.1 -0.1)\">\r\n       <defs>\r\n        <path d=\"M 684 794 \r\nL 1344 794 \r\nL 1344 0 \r\nL 684 0 \r\nL 684 794 \r\nz\r\n\" id=\"DejaVuSans-2e\" transform=\"scale(0.015625)\"/>\r\n       </defs>\r\n       <use xlink:href=\"#DejaVuSans-30\"/>\r\n       <use x=\"63.623047\" xlink:href=\"#DejaVuSans-2e\"/>\r\n       <use x=\"95.410156\" xlink:href=\"#DejaVuSans-32\"/>\r\n      </g>\r\n     </g>\r\n    </g>\r\n    <g id=\"ytick_2\">\r\n     <g id=\"line2d_8\">\r\n      <g>\r\n       <use style=\"stroke:#000000;stroke-width:0.8;\" x=\"53.459375\" xlink:href=\"#mbbe8226348\" y=\"181.161734\"/>\r\n      </g>\r\n     </g>\r\n     <g id=\"text_9\">\r\n      <!-- 0.4 -->\r\n      <g transform=\"translate(30.55625 184.960953)scale(0.1 -0.1)\">\r\n       <use xlink:href=\"#DejaVuSans-30\"/>\r\n       <use x=\"63.623047\" xlink:href=\"#DejaVuSans-2e\"/>\r\n       <use x=\"95.410156\" xlink:href=\"#DejaVuSans-34\"/>\r\n      </g>\r\n     </g>\r\n    </g>\r\n    <g id=\"ytick_3\">\r\n     <g id=\"line2d_9\">\r\n      <g>\r\n       <use style=\"stroke:#000000;stroke-width:0.8;\" x=\"53.459375\" xlink:href=\"#mbbe8226348\" y=\"153.133273\"/>\r\n      </g>\r\n     </g>\r\n     <g id=\"text_10\">\r\n      <!-- 0.6 -->\r\n      <g transform=\"translate(30.55625 156.932492)scale(0.1 -0.1)\">\r\n       <use xlink:href=\"#DejaVuSans-30\"/>\r\n       <use x=\"63.623047\" xlink:href=\"#DejaVuSans-2e\"/>\r\n       <use x=\"95.410156\" xlink:href=\"#DejaVuSans-36\"/>\r\n      </g>\r\n     </g>\r\n    </g>\r\n    <g id=\"ytick_4\">\r\n     <g id=\"line2d_10\">\r\n      <g>\r\n       <use style=\"stroke:#000000;stroke-width:0.8;\" x=\"53.459375\" xlink:href=\"#mbbe8226348\" y=\"125.104812\"/>\r\n      </g>\r\n     </g>\r\n     <g id=\"text_11\">\r\n      <!-- 0.8 -->\r\n      <g transform=\"translate(30.55625 128.90403)scale(0.1 -0.1)\">\r\n       <use xlink:href=\"#DejaVuSans-30\"/>\r\n       <use x=\"63.623047\" xlink:href=\"#DejaVuSans-2e\"/>\r\n       <use x=\"95.410156\" xlink:href=\"#DejaVuSans-38\"/>\r\n      </g>\r\n     </g>\r\n    </g>\r\n    <g id=\"ytick_5\">\r\n     <g id=\"line2d_11\">\r\n      <g>\r\n       <use style=\"stroke:#000000;stroke-width:0.8;\" x=\"53.459375\" xlink:href=\"#mbbe8226348\" y=\"97.07635\"/>\r\n      </g>\r\n     </g>\r\n     <g id=\"text_12\">\r\n      <!-- 1.0 -->\r\n      <g transform=\"translate(30.55625 100.875569)scale(0.1 -0.1)\">\r\n       <use xlink:href=\"#DejaVuSans-31\"/>\r\n       <use x=\"63.623047\" xlink:href=\"#DejaVuSans-2e\"/>\r\n       <use x=\"95.410156\" xlink:href=\"#DejaVuSans-30\"/>\r\n      </g>\r\n     </g>\r\n    </g>\r\n    <g id=\"ytick_6\">\r\n     <g id=\"line2d_12\">\r\n      <g>\r\n       <use style=\"stroke:#000000;stroke-width:0.8;\" x=\"53.459375\" xlink:href=\"#mbbe8226348\" y=\"69.047889\"/>\r\n      </g>\r\n     </g>\r\n     <g id=\"text_13\">\r\n      <!-- 1.2 -->\r\n      <g transform=\"translate(30.55625 72.847108)scale(0.1 -0.1)\">\r\n       <use xlink:href=\"#DejaVuSans-31\"/>\r\n       <use x=\"63.623047\" xlink:href=\"#DejaVuSans-2e\"/>\r\n       <use x=\"95.410156\" xlink:href=\"#DejaVuSans-32\"/>\r\n      </g>\r\n     </g>\r\n    </g>\r\n    <g id=\"ytick_7\">\r\n     <g id=\"line2d_13\">\r\n      <g>\r\n       <use style=\"stroke:#000000;stroke-width:0.8;\" x=\"53.459375\" xlink:href=\"#mbbe8226348\" y=\"41.019428\"/>\r\n      </g>\r\n     </g>\r\n     <g id=\"text_14\">\r\n      <!-- 1.4 -->\r\n      <g transform=\"translate(30.55625 44.818646)scale(0.1 -0.1)\">\r\n       <use xlink:href=\"#DejaVuSans-31\"/>\r\n       <use x=\"63.623047\" xlink:href=\"#DejaVuSans-2e\"/>\r\n       <use x=\"95.410156\" xlink:href=\"#DejaVuSans-34\"/>\r\n      </g>\r\n     </g>\r\n    </g>\r\n    <g id=\"ytick_8\">\r\n     <g id=\"line2d_14\">\r\n      <g>\r\n       <use style=\"stroke:#000000;stroke-width:0.8;\" x=\"53.459375\" xlink:href=\"#mbbe8226348\" y=\"12.990966\"/>\r\n      </g>\r\n     </g>\r\n     <g id=\"text_15\">\r\n      <!-- 1.6 -->\r\n      <g transform=\"translate(30.55625 16.790185)scale(0.1 -0.1)\">\r\n       <use xlink:href=\"#DejaVuSans-31\"/>\r\n       <use x=\"63.623047\" xlink:href=\"#DejaVuSans-2e\"/>\r\n       <use x=\"95.410156\" xlink:href=\"#DejaVuSans-36\"/>\r\n      </g>\r\n     </g>\r\n    </g>\r\n    <g id=\"text_16\">\r\n     <!-- $\\theta(t)$ -->\r\n     <g transform=\"translate(22.396875 133.82)rotate(-90)scale(0.2 -0.2)\">\r\n      <defs>\r\n       <path d=\"M 2913 2219 \r\nL 925 2219 \r\nQ 791 1284 928 888 \r\nQ 1100 400 1566 400 \r\nQ 2034 400 2391 891 \r\nQ 2703 1322 2913 2219 \r\nz\r\nM 3009 2750 \r\nQ 3094 3638 2984 3950 \r\nQ 2813 4444 2353 4444 \r\nQ 1875 4444 1525 3956 \r\nQ 1250 3563 1034 2750 \r\nL 3009 2750 \r\nz\r\nM 2444 4913 \r\nQ 3194 4913 3494 4250 \r\nQ 3794 3591 3566 2422 \r\nQ 3341 1256 2781 594 \r\nQ 2225 -72 1475 -72 \r\nQ 722 -72 425 594 \r\nQ 128 1256 353 2422 \r\nQ 581 3591 1134 4250 \r\nQ 1691 4913 2444 4913 \r\nz\r\n\" id=\"DejaVuSans-Oblique-3b8\" transform=\"scale(0.015625)\"/>\r\n       <path d=\"M 1984 4856 \r\nQ 1566 4138 1362 3434 \r\nQ 1159 2731 1159 2009 \r\nQ 1159 1288 1364 580 \r\nQ 1569 -128 1984 -844 \r\nL 1484 -844 \r\nQ 1016 -109 783 600 \r\nQ 550 1309 550 2009 \r\nQ 550 2706 781 3412 \r\nQ 1013 4119 1484 4856 \r\nL 1984 4856 \r\nz\r\n\" id=\"DejaVuSans-28\" transform=\"scale(0.015625)\"/>\r\n       <path d=\"M 513 4856 \r\nL 1013 4856 \r\nQ 1481 4119 1714 3412 \r\nQ 1947 2706 1947 2009 \r\nQ 1947 1309 1714 600 \r\nQ 1481 -109 1013 -844 \r\nL 513 -844 \r\nQ 928 -128 1133 580 \r\nQ 1338 1288 1338 2009 \r\nQ 1338 2731 1133 3434 \r\nQ 928 4138 513 4856 \r\nz\r\n\" id=\"DejaVuSans-29\" transform=\"scale(0.015625)\"/>\r\n      </defs>\r\n      <use transform=\"translate(0 0.234375)\" xlink:href=\"#DejaVuSans-Oblique-3b8\"/>\r\n      <use transform=\"translate(61.181641 0.234375)\" xlink:href=\"#DejaVuSans-28\"/>\r\n      <use transform=\"translate(100.195312 0.234375)\" xlink:href=\"#DejaVuSans-Oblique-74\"/>\r\n      <use transform=\"translate(139.404297 0.234375)\" xlink:href=\"#DejaVuSans-29\"/>\r\n     </g>\r\n    </g>\r\n   </g>\r\n   <g id=\"line2d_15\">\r\n    <path clip-path=\"url(#p11ddcdf407)\" d=\"M 68.677557 17.083636 \r\nL 71.751937 23.797265 \r\nL 74.826317 30.504473 \r\nL 77.900697 37.198293 \r\nL 80.975077 43.870719 \r\nL 84.049458 50.512355 \r\nL 87.123838 57.112261 \r\nL 90.198218 63.65807 \r\nL 93.272598 70.136389 \r\nL 96.346978 76.533458 \r\nL 99.421358 82.835961 \r\nL 102.495739 89.031863 \r\nL 105.570119 95.111153 \r\nL 108.644499 101.066342 \r\nL 111.718879 106.892648 \r\nL 114.793259 112.587809 \r\nL 117.867639 118.151476 \r\nL 120.94202 123.584201 \r\nL 124.0164 128.885983 \r\nL 127.09078 134.054371 \r\nL 130.16516 139.082132 \r\nL 133.23954 143.954477 \r\nL 136.31392 148.645978 \r\nL 139.388301 153.117398 \r\nL 142.462681 157.312979 \r\nL 145.537061 161.159117 \r\nL 148.611441 164.565821 \r\nL 151.685821 167.432674 \r\nL 154.760201 169.660633 \r\nL 157.834582 171.169332 \r\nL 160.908962 171.916542 \r\nL 163.983342 171.913529 \r\nL 167.057722 171.229887 \r\nL 170.132102 169.985398 \r\nL 173.206482 168.332156 \r\nL 176.280863 166.433655 \r\nL 179.355243 164.446845 \r\nL 182.429623 162.510181 \r\nL 185.504003 160.73779 \r\nL 188.578383 159.218361 \r\nL 191.652763 158.017029 \r\nL 194.727144 157.178791 \r\nL 197.801524 156.732415 \r\nL 200.875904 156.694235 \r\nL 203.950284 157.071469 \r\nL 207.024664 157.864939 \r\nL 210.099044 159.0711 \r\nL 213.173425 160.683417 \r\nL 216.247805 162.693051 \r\nL 219.322185 165.088868 \r\nL 222.396565 167.856679 \r\nL 225.470945 170.977621 \r\nL 228.545325 174.425457 \r\nL 231.619706 178.162493 \r\nL 234.694086 182.13368 \r\nL 237.768466 186.258304 \r\nL 240.842846 190.418712 \r\nL 243.917226 194.446148 \r\nL 246.991606 198.106536 \r\nL 250.065987 201.096581 \r\nL 253.140367 203.073482 \r\nL 256.214747 203.743834 \r\nL 259.289127 202.990289 \r\nL 262.363507 200.937938 \r\nL 265.437887 197.892489 \r\nL 268.512268 194.215506 \r\nL 271.586648 190.23421 \r\nL 274.661028 186.208605 \r\nL 277.735408 182.331974 \r\nL 280.809788 178.742408 \r\nL 283.884168 175.535324 \r\nL 286.958549 172.774091 \r\nL 290.032929 170.49848 \r\nL 293.107309 168.731256 \r\nL 296.181689 167.483287 \r\nL 299.256069 166.757454 \r\nL 302.330449 166.551573 \r\nL 305.40483 166.8605 \r\nL 308.47921 167.677525 \r\nL 311.55359 168.995136 \r\nL 314.62797 170.80518 \r\nL 317.70235 173.098415 \r\nL 320.77673 175.86337 \r\nL 323.851111 179.084368 \r\nL 326.925491 182.738456 \r\nL 329.999871 186.79076 \r\nL 333.074251 191.187451 \r\nL 336.148631 195.84471 \r\nL 339.223011 200.630755 \r\nL 342.297392 205.335803 \r\nL 345.371772 209.624622 \r\nL 348.446152 212.98395 \r\nL 351.520532 214.756364 \r\nL 354.594912 214.442095 \r\nL 357.669292 212.117443 \r\nL 360.743673 208.36107 \r\nL 363.818053 203.815742 \r\nL 366.892433 198.962174 \r\nL 369.966813 194.11813 \r\nL 373.041193 189.489642 \r\n\" style=\"fill:none;stroke:#1f77b4;stroke-linecap:square;stroke-width:1.5;\"/>\r\n   </g>\r\n   <g id=\"patch_3\">\r\n    <path d=\"M 53.459375 224.64 \r\nL 53.459375 7.2 \r\n\" style=\"fill:none;stroke:#000000;stroke-linecap:square;stroke-linejoin:miter;stroke-width:0.8;\"/>\r\n   </g>\r\n   <g id=\"patch_4\">\r\n    <path d=\"M 388.259375 224.64 \r\nL 388.259375 7.2 \r\n\" style=\"fill:none;stroke:#000000;stroke-linecap:square;stroke-linejoin:miter;stroke-width:0.8;\"/>\r\n   </g>\r\n   <g id=\"patch_5\">\r\n    <path d=\"M 53.459375 224.64 \r\nL 388.259375 224.64 \r\n\" style=\"fill:none;stroke:#000000;stroke-linecap:square;stroke-linejoin:miter;stroke-width:0.8;\"/>\r\n   </g>\r\n   <g id=\"patch_6\">\r\n    <path d=\"M 53.459375 7.2 \r\nL 388.259375 7.2 \r\n\" style=\"fill:none;stroke:#000000;stroke-linecap:square;stroke-linejoin:miter;stroke-width:0.8;\"/>\r\n   </g>\r\n  </g>\r\n </g>\r\n <defs>\r\n  <clipPath id=\"p11ddcdf407\">\r\n   <rect height=\"217.44\" width=\"334.8\" x=\"53.459375\" y=\"7.2\"/>\r\n  </clipPath>\r\n </defs>\r\n</svg>\r\n",
      "image/png": "[encoded data removed]"
     },
     "metadata": {
      "needs_background": "light"
     }
    }
   ],
   "metadata": {}
  },
  {
   "cell_type": "markdown",
   "source": [
    "## Vector Integrals"
   ],
   "metadata": {}
  },
  {
   "cell_type": "markdown",
   "source": [
    "Note: Will not add the +C"
   ],
   "metadata": {}
  },
  {
   "cell_type": "code",
   "execution_count": 253,
   "source": [
    "r = smp.Matrix([smp.exp(t)*smp.cos(t), t**4, 1/(1+t**2)])\r\n",
    "r"
   ],
   "outputs": [
    {
     "output_type": "execute_result",
     "data": {
      "text/plain": [
       "Matrix([\n",
       "[exp(t)*cos(t)],\n",
       "[         t**4],\n",
       "[ 1/(t**2 + 1)]])"
      ],
      "text/latex": [
       "$\\displaystyle \\left[\\begin{matrix}e^{t} \\cos{\\left(t \\right)}\\\\t^{4}\\\\\\frac{1}{t^{2} + 1}\\end{matrix}\\right]$"
      ]
     },
     "metadata": {},
     "execution_count": 253
    }
   ],
   "metadata": {}
  },
  {
   "cell_type": "code",
   "execution_count": 254,
   "source": [
    "smp.Integral(r).doit()"
   ],
   "outputs": [
    {
     "output_type": "execute_result",
     "data": {
      "text/plain": [
       "Matrix([\n",
       "[exp(t)*sin(t)/2 + exp(t)*cos(t)/2],\n",
       "[                           t**5/5],\n",
       "[                          atan(t)]])"
      ],
      "text/latex": [
       "$\\displaystyle \\left[\\begin{matrix}\\frac{e^{t} \\sin{\\left(t \\right)}}{2} + \\frac{e^{t} \\cos{\\left(t \\right)}}{2}\\\\\\frac{t^{5}}{5}\\\\\\operatorname{atan}{\\left(t \\right)}\\end{matrix}\\right]$"
      ]
     },
     "metadata": {},
     "execution_count": 254
    }
   ],
   "metadata": {}
  },
  {
   "cell_type": "markdown",
   "source": [
    "In some cases integral cannot be evaluated symbolically: must solve definite integrals numerically:"
   ],
   "metadata": {}
  },
  {
   "cell_type": "code",
   "execution_count": 255,
   "source": [
    "r = smp.Matrix([smp.exp(t**2)*smp.cos(t)**3, smp.exp(-t**4), 1/(3+t**2)])\r\n",
    "r"
   ],
   "outputs": [
    {
     "output_type": "execute_result",
     "data": {
      "text/plain": [
       "Matrix([\n",
       "[exp(t**2)*cos(t)**3],\n",
       "[         exp(-t**4)],\n",
       "[       1/(t**2 + 3)]])"
      ],
      "text/latex": [
       "$\\displaystyle \\left[\\begin{matrix}e^{t^{2}} \\cos^{3}{\\left(t \\right)}\\\\e^{- t^{4}}\\\\\\frac{1}{t^{2} + 3}\\end{matrix}\\right]$"
      ]
     },
     "metadata": {},
     "execution_count": 255
    }
   ],
   "metadata": {}
  },
  {
   "cell_type": "markdown",
   "source": [
    "Integrate from $t=0$ to $t=4$"
   ],
   "metadata": {}
  },
  {
   "cell_type": "code",
   "execution_count": 256,
   "source": [
    "r_num = smp.lambdify([t], r)"
   ],
   "outputs": [],
   "metadata": {}
  },
  {
   "cell_type": "code",
   "execution_count": 257,
   "source": [
    "r_num = smp.lambdify([t], r)\r\n",
    "quad_vec(r_num, 0, 4)[0]"
   ],
   "outputs": [
    {
     "output_type": "execute_result",
     "data": {
      "text/plain": [
       "array([[-4.83559254e+05],\n",
       "       [ 9.06402477e-01],\n",
       "       [ 6.70972506e-01]])"
      ]
     },
     "metadata": {},
     "execution_count": 257
    }
   ],
   "metadata": {}
  },
  {
   "cell_type": "markdown",
   "source": [
    "## Arclength\n",
    "\n",
    "$$L = \\int_a^b \\sqrt{dx^2 + dy^2 + dz^2} = \\int_a^b \\sqrt{(dx/dt)^2 + (dy/dt)^2 + (dz/dt)^2 } dt $$"
   ],
   "metadata": {}
  },
  {
   "cell_type": "markdown",
   "source": [
    "Rare Cases can be done symbolically. Find arclength of $\\left< 0, t, t^2 \\right>$ from $t=0$ to $t=1$"
   ],
   "metadata": {}
  },
  {
   "cell_type": "code",
   "execution_count": 258,
   "source": [
    "r = smp.Matrix([0, t, t**2])\r\n",
    "smp.integrate(smp.diff(r,t).norm(), (t,0,1))"
   ],
   "outputs": [
    {
     "output_type": "execute_result",
     "data": {
      "text/plain": [
       "asinh(2)/4 + sqrt(5)/2"
      ],
      "text/latex": [
       "$\\displaystyle \\frac{\\operatorname{asinh}{\\left(2 \\right)}}{4} + \\frac{\\sqrt{5}}{2}$"
      ]
     },
     "metadata": {},
     "execution_count": 258
    }
   ],
   "metadata": {}
  },
  {
   "cell_type": "markdown",
   "source": [
    "In most cases needs to be done numerically. Find arclength of $\\left< e^t, \\sin(t), t^4 \\right>$ from $t=0$ to $t=1$"
   ],
   "metadata": {}
  },
  {
   "cell_type": "code",
   "execution_count": 259,
   "source": [
    "r = smp.Matrix([smp.exp(t), smp.sin(t), t**4])\r\n",
    "r_num = smp.lambdify([t], smp.diff(r,t).norm())\r\n",
    "quad(r_num, 0, 1)[0]"
   ],
   "outputs": [
    {
     "output_type": "execute_result",
     "data": {
      "text/plain": [
       "2.316977146444862"
      ]
     },
     "metadata": {},
     "execution_count": 259
    }
   ],
   "metadata": {}
  },
  {
   "cell_type": "markdown",
   "source": [
    "## Other Relavent Quantities\n",
    "\n",
    "If $ds = \\sqrt{dx^2 + dy^2 + dz^2}$ is the arclength element $ds/dt = \\sqrt{(dx/dt)^2 + (dy/dt)^2 + (dz/dt)^2 } = |d\\vec{r}/dt| = |\\vec{v}|$ then the other quantities of importance are"
   ],
   "metadata": {}
  },
  {
   "cell_type": "markdown",
   "source": [
    "* Unit Tangent vector: $\\vec{T} = \\frac{d\\vec{r}}{dt}\\frac{1}{|d\\vec{r}/dt|} = \\vec{v}/|\\vec{v}|$ \n",
    "* Curvature: $\\kappa = |\\frac{d\\vec{T}}{dt}|\\frac{1}{|\\vec{v}|}$\n",
    "* Unit normal vector to Curve: $\\vec{N} = \\frac{d\\vec{T}/dt}{|d\\vec{T}/dt|}$"
   ],
   "metadata": {}
  },
  {
   "cell_type": "markdown",
   "source": [
    "**Example** Find all these for $\\vec{r}(t) = \\left<a\\cos(t)e^t, b\\sin(t), ct\\right>$"
   ],
   "metadata": {}
  },
  {
   "cell_type": "code",
   "execution_count": 260,
   "source": [
    "t, a, b, c = smp.symbols('t a b c', pos=True, real=True)"
   ],
   "outputs": [],
   "metadata": {}
  },
  {
   "cell_type": "markdown",
   "source": [
    "Define the path"
   ],
   "metadata": {}
  },
  {
   "cell_type": "code",
   "execution_count": 261,
   "source": [
    "r = smp.Matrix([a*smp.cos(t)*smp.exp(t), b*smp.sin(t), c*t])\r\n",
    "r"
   ],
   "outputs": [
    {
     "output_type": "execute_result",
     "data": {
      "text/plain": [
       "Matrix([\n",
       "[a*exp(t)*cos(t)],\n",
       "[       b*sin(t)],\n",
       "[            c*t]])"
      ],
      "text/latex": [
       "$\\displaystyle \\left[\\begin{matrix}a e^{t} \\cos{\\left(t \\right)}\\\\b \\sin{\\left(t \\right)}\\\\c t\\end{matrix}\\right]$"
      ]
     },
     "metadata": {},
     "execution_count": 261
    }
   ],
   "metadata": {}
  },
  {
   "cell_type": "markdown",
   "source": [
    "Define the velocity vector $\\vec{v}$ and speed $|\\vec{v}|$"
   ],
   "metadata": {}
  },
  {
   "cell_type": "code",
   "execution_count": 262,
   "source": [
    "v = smp.diff(r, t)\r\n",
    "v_norm = v.norm()"
   ],
   "outputs": [],
   "metadata": {}
  },
  {
   "cell_type": "markdown",
   "source": [
    "Get $\\vec{T}$, $\\kappa$, and $\\vec{N}$"
   ],
   "metadata": {}
  },
  {
   "cell_type": "code",
   "execution_count": 263,
   "source": [
    "T = v/v_norm\r\n",
    "kappa = smp.diff(T, t).norm()/v_norm\r\n",
    "N = smp.diff(T,t)/smp.diff(T,t).norm()"
   ],
   "outputs": [],
   "metadata": {}
  },
  {
   "cell_type": "markdown",
   "source": [
    "Can evaluate these quantities or make plots"
   ],
   "metadata": {}
  },
  {
   "cell_type": "code",
   "execution_count": 264,
   "source": [
    "kappa.subs([(t,2),(a,3),(b,4),(c,5)]).evalf()"
   ],
   "outputs": [
    {
     "output_type": "execute_result",
     "data": {
      "text/plain": [
       "0.00775458595406284"
      ],
      "text/latex": [
       "$\\displaystyle 0.00775458595406284$"
      ]
     },
     "metadata": {},
     "execution_count": 264
    }
   ],
   "metadata": {}
  },
  {
   "cell_type": "code",
   "execution_count": 265,
   "source": [
    "N.subs([(t,2),(a,3),(b,4),(c,5)]).evalf()"
   ],
   "outputs": [
    {
     "output_type": "execute_result",
     "data": {
      "text/plain": [
       "Matrix([\n",
       "[-0.152946073876551],\n",
       "[-0.204518432770271],\n",
       "[-0.966840063890063]])"
      ],
      "text/latex": [
       "$\\displaystyle \\left[\\begin{matrix}-0.152946073876551\\\\-0.204518432770271\\\\-0.966840063890063\\end{matrix}\\right]$"
      ]
     },
     "metadata": {},
     "execution_count": 265
    }
   ],
   "metadata": {}
  },
  {
   "cell_type": "markdown",
   "source": [
    "Can also make continuous plots"
   ],
   "metadata": {}
  },
  {
   "cell_type": "code",
   "execution_count": 266,
   "source": [
    "kappa_num = smp.lambdify([t,a,b,c], kappa)"
   ],
   "outputs": [],
   "metadata": {}
  },
  {
   "cell_type": "code",
   "execution_count": 267,
   "source": [
    "tt = np.linspace(0, 2, 100)\r\n",
    "kk = kappa_num(tt, 1, 2, 3)\r\n",
    "plt.plot(tt, kk)\r\n",
    "plt.xlabel('$t$', fontsize=20)\r\n",
    "plt.ylabel('$\\kappa(t)$', fontsize=20)\r\n",
    "plt.show()"
   ],
   "outputs": [
    {
     "output_type": "display_data",
     "data": {
      "text/plain": [
       "<Figure size 432x288 with 1 Axes>"
      ],
      "image/svg+xml": "<?xml version=\"1.0\" encoding=\"utf-8\" standalone=\"no\"?>\r\n<!DOCTYPE svg PUBLIC \"-//W3C//DTD SVG 1.1//EN\"\r\n  \"http://www.w3.org/Graphics/SVG/1.1/DTD/svg11.dtd\">\r\n<svg height=\"271.874375pt\" version=\"1.1\" viewBox=\"0 0 395.459375 271.874375\" width=\"395.459375pt\" xmlns=\"http://www.w3.org/2000/svg\" xmlns:xlink=\"http://www.w3.org/1999/xlink\">\r\n <metadata>\r\n  <rdf:RDF xmlns:cc=\"http://creativecommons.org/ns#\" xmlns:dc=\"http://purl.org/dc/elements/1.1/\" xmlns:rdf=\"http://www.w3.org/1999/02/22-rdf-syntax-ns#\">\r\n   <cc:Work>\r\n    <dc:type rdf:resource=\"http://purl.org/dc/dcmitype/StillImage\"/>\r\n    <dc:date>2021-08-24T20:43:28.478277</dc:date>\r\n    <dc:format>image/svg+xml</dc:format>\r\n    <dc:creator>\r\n     <cc:Agent>\r\n      <dc:title>Matplotlib v3.4.3, https://matplotlib.org/</dc:title>\r\n     </cc:Agent>\r\n    </dc:creator>\r\n   </cc:Work>\r\n  </rdf:RDF>\r\n </metadata>\r\n <defs>\r\n  <style type=\"text/css\">*{stroke-linecap:butt;stroke-linejoin:round;}</style>\r\n </defs>\r\n <g id=\"figure_1\">\r\n  <g id=\"patch_1\">\r\n   <path d=\"M 0 271.874375 \r\nL 395.459375 271.874375 \r\nL 395.459375 0 \r\nL 0 0 \r\nz\r\n\" style=\"fill:none;\"/>\r\n  </g>\r\n  <g id=\"axes_1\">\r\n   <g id=\"patch_2\">\r\n    <path d=\"M 53.459375 224.64 \r\nL 388.259375 224.64 \r\nL 388.259375 7.2 \r\nL 53.459375 7.2 \r\nz\r\n\" style=\"fill:#ffffff;\"/>\r\n   </g>\r\n   <g id=\"matplotlib.axis_1\">\r\n    <g id=\"xtick_1\">\r\n     <g id=\"line2d_1\">\r\n      <defs>\r\n       <path d=\"M 0 0 \r\nL 0 3.5 \r\n\" id=\"m46ba6438a7\" style=\"stroke:#000000;stroke-width:0.8;\"/>\r\n      </defs>\r\n      <g>\r\n       <use style=\"stroke:#000000;stroke-width:0.8;\" x=\"68.677557\" xlink:href=\"#m46ba6438a7\" y=\"224.64\"/>\r\n      </g>\r\n     </g>\r\n     <g id=\"text_1\">\r\n      <!-- 0.00 -->\r\n      <g transform=\"translate(57.544744 239.238437)scale(0.1 -0.1)\">\r\n       <defs>\r\n        <path d=\"M 2034 4250 \r\nQ 1547 4250 1301 3770 \r\nQ 1056 3291 1056 2328 \r\nQ 1056 1369 1301 889 \r\nQ 1547 409 2034 409 \r\nQ 2525 409 2770 889 \r\nQ 3016 1369 3016 2328 \r\nQ 3016 3291 2770 3770 \r\nQ 2525 4250 2034 4250 \r\nz\r\nM 2034 4750 \r\nQ 2819 4750 3233 4129 \r\nQ 3647 3509 3647 2328 \r\nQ 3647 1150 3233 529 \r\nQ 2819 -91 2034 -91 \r\nQ 1250 -91 836 529 \r\nQ 422 1150 422 2328 \r\nQ 422 3509 836 4129 \r\nQ 1250 4750 2034 4750 \r\nz\r\n\" id=\"DejaVuSans-30\" transform=\"scale(0.015625)\"/>\r\n        <path d=\"M 684 794 \r\nL 1344 794 \r\nL 1344 0 \r\nL 684 0 \r\nL 684 794 \r\nz\r\n\" id=\"DejaVuSans-2e\" transform=\"scale(0.015625)\"/>\r\n       </defs>\r\n       <use xlink:href=\"#DejaVuSans-30\"/>\r\n       <use x=\"63.623047\" xlink:href=\"#DejaVuSans-2e\"/>\r\n       <use x=\"95.410156\" xlink:href=\"#DejaVuSans-30\"/>\r\n       <use x=\"159.033203\" xlink:href=\"#DejaVuSans-30\"/>\r\n      </g>\r\n     </g>\r\n    </g>\r\n    <g id=\"xtick_2\">\r\n     <g id=\"line2d_2\">\r\n      <g>\r\n       <use style=\"stroke:#000000;stroke-width:0.8;\" x=\"106.723011\" xlink:href=\"#m46ba6438a7\" y=\"224.64\"/>\r\n      </g>\r\n     </g>\r\n     <g id=\"text_2\">\r\n      <!-- 0.25 -->\r\n      <g transform=\"translate(95.590199 239.238437)scale(0.1 -0.1)\">\r\n       <defs>\r\n        <path d=\"M 1228 531 \r\nL 3431 531 \r\nL 3431 0 \r\nL 469 0 \r\nL 469 531 \r\nQ 828 903 1448 1529 \r\nQ 2069 2156 2228 2338 \r\nQ 2531 2678 2651 2914 \r\nQ 2772 3150 2772 3378 \r\nQ 2772 3750 2511 3984 \r\nQ 2250 4219 1831 4219 \r\nQ 1534 4219 1204 4116 \r\nQ 875 4013 500 3803 \r\nL 500 4441 \r\nQ 881 4594 1212 4672 \r\nQ 1544 4750 1819 4750 \r\nQ 2544 4750 2975 4387 \r\nQ 3406 4025 3406 3419 \r\nQ 3406 3131 3298 2873 \r\nQ 3191 2616 2906 2266 \r\nQ 2828 2175 2409 1742 \r\nQ 1991 1309 1228 531 \r\nz\r\n\" id=\"DejaVuSans-32\" transform=\"scale(0.015625)\"/>\r\n        <path d=\"M 691 4666 \r\nL 3169 4666 \r\nL 3169 4134 \r\nL 1269 4134 \r\nL 1269 2991 \r\nQ 1406 3038 1543 3061 \r\nQ 1681 3084 1819 3084 \r\nQ 2600 3084 3056 2656 \r\nQ 3513 2228 3513 1497 \r\nQ 3513 744 3044 326 \r\nQ 2575 -91 1722 -91 \r\nQ 1428 -91 1123 -41 \r\nQ 819 9 494 109 \r\nL 494 744 \r\nQ 775 591 1075 516 \r\nQ 1375 441 1709 441 \r\nQ 2250 441 2565 725 \r\nQ 2881 1009 2881 1497 \r\nQ 2881 1984 2565 2268 \r\nQ 2250 2553 1709 2553 \r\nQ 1456 2553 1204 2497 \r\nQ 953 2441 691 2322 \r\nL 691 4666 \r\nz\r\n\" id=\"DejaVuSans-35\" transform=\"scale(0.015625)\"/>\r\n       </defs>\r\n       <use xlink:href=\"#DejaVuSans-30\"/>\r\n       <use x=\"63.623047\" xlink:href=\"#DejaVuSans-2e\"/>\r\n       <use x=\"95.410156\" xlink:href=\"#DejaVuSans-32\"/>\r\n       <use x=\"159.033203\" xlink:href=\"#DejaVuSans-35\"/>\r\n      </g>\r\n     </g>\r\n    </g>\r\n    <g id=\"xtick_3\">\r\n     <g id=\"line2d_3\">\r\n      <g>\r\n       <use style=\"stroke:#000000;stroke-width:0.8;\" x=\"144.768466\" xlink:href=\"#m46ba6438a7\" y=\"224.64\"/>\r\n      </g>\r\n     </g>\r\n     <g id=\"text_3\">\r\n      <!-- 0.50 -->\r\n      <g transform=\"translate(133.635653 239.238437)scale(0.1 -0.1)\">\r\n       <use xlink:href=\"#DejaVuSans-30\"/>\r\n       <use x=\"63.623047\" xlink:href=\"#DejaVuSans-2e\"/>\r\n       <use x=\"95.410156\" xlink:href=\"#DejaVuSans-35\"/>\r\n       <use x=\"159.033203\" xlink:href=\"#DejaVuSans-30\"/>\r\n      </g>\r\n     </g>\r\n    </g>\r\n    <g id=\"xtick_4\">\r\n     <g id=\"line2d_4\">\r\n      <g>\r\n       <use style=\"stroke:#000000;stroke-width:0.8;\" x=\"182.81392\" xlink:href=\"#m46ba6438a7\" y=\"224.64\"/>\r\n      </g>\r\n     </g>\r\n     <g id=\"text_4\">\r\n      <!-- 0.75 -->\r\n      <g transform=\"translate(171.681108 239.238437)scale(0.1 -0.1)\">\r\n       <defs>\r\n        <path d=\"M 525 4666 \r\nL 3525 4666 \r\nL 3525 4397 \r\nL 1831 0 \r\nL 1172 0 \r\nL 2766 4134 \r\nL 525 4134 \r\nL 525 4666 \r\nz\r\n\" id=\"DejaVuSans-37\" transform=\"scale(0.015625)\"/>\r\n       </defs>\r\n       <use xlink:href=\"#DejaVuSans-30\"/>\r\n       <use x=\"63.623047\" xlink:href=\"#DejaVuSans-2e\"/>\r\n       <use x=\"95.410156\" xlink:href=\"#DejaVuSans-37\"/>\r\n       <use x=\"159.033203\" xlink:href=\"#DejaVuSans-35\"/>\r\n      </g>\r\n     </g>\r\n    </g>\r\n    <g id=\"xtick_5\">\r\n     <g id=\"line2d_5\">\r\n      <g>\r\n       <use style=\"stroke:#000000;stroke-width:0.8;\" x=\"220.859375\" xlink:href=\"#m46ba6438a7\" y=\"224.64\"/>\r\n      </g>\r\n     </g>\r\n     <g id=\"text_5\">\r\n      <!-- 1.00 -->\r\n      <g transform=\"translate(209.726562 239.238437)scale(0.1 -0.1)\">\r\n       <defs>\r\n        <path d=\"M 794 531 \r\nL 1825 531 \r\nL 1825 4091 \r\nL 703 3866 \r\nL 703 4441 \r\nL 1819 4666 \r\nL 2450 4666 \r\nL 2450 531 \r\nL 3481 531 \r\nL 3481 0 \r\nL 794 0 \r\nL 794 531 \r\nz\r\n\" id=\"DejaVuSans-31\" transform=\"scale(0.015625)\"/>\r\n       </defs>\r\n       <use xlink:href=\"#DejaVuSans-31\"/>\r\n       <use x=\"63.623047\" xlink:href=\"#DejaVuSans-2e\"/>\r\n       <use x=\"95.410156\" xlink:href=\"#DejaVuSans-30\"/>\r\n       <use x=\"159.033203\" xlink:href=\"#DejaVuSans-30\"/>\r\n      </g>\r\n     </g>\r\n    </g>\r\n    <g id=\"xtick_6\">\r\n     <g id=\"line2d_6\">\r\n      <g>\r\n       <use style=\"stroke:#000000;stroke-width:0.8;\" x=\"258.90483\" xlink:href=\"#m46ba6438a7\" y=\"224.64\"/>\r\n      </g>\r\n     </g>\r\n     <g id=\"text_6\">\r\n      <!-- 1.25 -->\r\n      <g transform=\"translate(247.772017 239.238437)scale(0.1 -0.1)\">\r\n       <use xlink:href=\"#DejaVuSans-31\"/>\r\n       <use x=\"63.623047\" xlink:href=\"#DejaVuSans-2e\"/>\r\n       <use x=\"95.410156\" xlink:href=\"#DejaVuSans-32\"/>\r\n       <use x=\"159.033203\" xlink:href=\"#DejaVuSans-35\"/>\r\n      </g>\r\n     </g>\r\n    </g>\r\n    <g id=\"xtick_7\">\r\n     <g id=\"line2d_7\">\r\n      <g>\r\n       <use style=\"stroke:#000000;stroke-width:0.8;\" x=\"296.950284\" xlink:href=\"#m46ba6438a7\" y=\"224.64\"/>\r\n      </g>\r\n     </g>\r\n     <g id=\"text_7\">\r\n      <!-- 1.50 -->\r\n      <g transform=\"translate(285.817472 239.238437)scale(0.1 -0.1)\">\r\n       <use xlink:href=\"#DejaVuSans-31\"/>\r\n       <use x=\"63.623047\" xlink:href=\"#DejaVuSans-2e\"/>\r\n       <use x=\"95.410156\" xlink:href=\"#DejaVuSans-35\"/>\r\n       <use x=\"159.033203\" xlink:href=\"#DejaVuSans-30\"/>\r\n      </g>\r\n     </g>\r\n    </g>\r\n    <g id=\"xtick_8\">\r\n     <g id=\"line2d_8\">\r\n      <g>\r\n       <use style=\"stroke:#000000;stroke-width:0.8;\" x=\"334.995739\" xlink:href=\"#m46ba6438a7\" y=\"224.64\"/>\r\n      </g>\r\n     </g>\r\n     <g id=\"text_8\">\r\n      <!-- 1.75 -->\r\n      <g transform=\"translate(323.862926 239.238437)scale(0.1 -0.1)\">\r\n       <use xlink:href=\"#DejaVuSans-31\"/>\r\n       <use x=\"63.623047\" xlink:href=\"#DejaVuSans-2e\"/>\r\n       <use x=\"95.410156\" xlink:href=\"#DejaVuSans-37\"/>\r\n       <use x=\"159.033203\" xlink:href=\"#DejaVuSans-35\"/>\r\n      </g>\r\n     </g>\r\n    </g>\r\n    <g id=\"xtick_9\">\r\n     <g id=\"line2d_9\">\r\n      <g>\r\n       <use style=\"stroke:#000000;stroke-width:0.8;\" x=\"373.041193\" xlink:href=\"#m46ba6438a7\" y=\"224.64\"/>\r\n      </g>\r\n     </g>\r\n     <g id=\"text_9\">\r\n      <!-- 2.00 -->\r\n      <g transform=\"translate(361.908381 239.238437)scale(0.1 -0.1)\">\r\n       <use xlink:href=\"#DejaVuSans-32\"/>\r\n       <use x=\"63.623047\" xlink:href=\"#DejaVuSans-2e\"/>\r\n       <use x=\"95.410156\" xlink:href=\"#DejaVuSans-30\"/>\r\n       <use x=\"159.033203\" xlink:href=\"#DejaVuSans-30\"/>\r\n      </g>\r\n     </g>\r\n    </g>\r\n    <g id=\"text_10\">\r\n     <!-- $t$ -->\r\n     <g transform=\"translate(216.859375 260.515)scale(0.2 -0.2)\">\r\n      <defs>\r\n       <path d=\"M 2706 3500 \r\nL 2619 3053 \r\nL 1472 3053 \r\nL 1100 1153 \r\nQ 1081 1047 1072 975 \r\nQ 1063 903 1063 863 \r\nQ 1063 663 1183 572 \r\nQ 1303 481 1569 481 \r\nL 2150 481 \r\nL 2053 0 \r\nL 1503 0 \r\nQ 991 0 739 200 \r\nQ 488 400 488 806 \r\nQ 488 878 497 964 \r\nQ 506 1050 525 1153 \r\nL 897 3053 \r\nL 409 3053 \r\nL 500 3500 \r\nL 978 3500 \r\nL 1172 4494 \r\nL 1747 4494 \r\nL 1556 3500 \r\nL 2706 3500 \r\nz\r\n\" id=\"DejaVuSans-Oblique-74\" transform=\"scale(0.015625)\"/>\r\n      </defs>\r\n      <use transform=\"translate(0 0.78125)\" xlink:href=\"#DejaVuSans-Oblique-74\"/>\r\n     </g>\r\n    </g>\r\n   </g>\r\n   <g id=\"matplotlib.axis_2\">\r\n    <g id=\"ytick_1\">\r\n     <g id=\"line2d_10\">\r\n      <defs>\r\n       <path d=\"M 0 0 \r\nL -3.5 0 \r\n\" id=\"mf0e1623cd1\" style=\"stroke:#000000;stroke-width:0.8;\"/>\r\n      </defs>\r\n      <g>\r\n       <use style=\"stroke:#000000;stroke-width:0.8;\" x=\"53.459375\" xlink:href=\"#mf0e1623cd1\" y=\"214.756364\"/>\r\n      </g>\r\n     </g>\r\n     <g id=\"text_11\">\r\n      <!-- 0.0 -->\r\n      <g transform=\"translate(30.55625 218.555582)scale(0.1 -0.1)\">\r\n       <use xlink:href=\"#DejaVuSans-30\"/>\r\n       <use x=\"63.623047\" xlink:href=\"#DejaVuSans-2e\"/>\r\n       <use x=\"95.410156\" xlink:href=\"#DejaVuSans-30\"/>\r\n      </g>\r\n     </g>\r\n    </g>\r\n    <g id=\"ytick_2\">\r\n     <g id=\"line2d_11\">\r\n      <g>\r\n       <use style=\"stroke:#000000;stroke-width:0.8;\" x=\"53.459375\" xlink:href=\"#mf0e1623cd1\" y=\"172.569725\"/>\r\n      </g>\r\n     </g>\r\n     <g id=\"text_12\">\r\n      <!-- 0.1 -->\r\n      <g transform=\"translate(30.55625 176.368943)scale(0.1 -0.1)\">\r\n       <use xlink:href=\"#DejaVuSans-30\"/>\r\n       <use x=\"63.623047\" xlink:href=\"#DejaVuSans-2e\"/>\r\n       <use x=\"95.410156\" xlink:href=\"#DejaVuSans-31\"/>\r\n      </g>\r\n     </g>\r\n    </g>\r\n    <g id=\"ytick_3\">\r\n     <g id=\"line2d_12\">\r\n      <g>\r\n       <use style=\"stroke:#000000;stroke-width:0.8;\" x=\"53.459375\" xlink:href=\"#mf0e1623cd1\" y=\"130.383086\"/>\r\n      </g>\r\n     </g>\r\n     <g id=\"text_13\">\r\n      <!-- 0.2 -->\r\n      <g transform=\"translate(30.55625 134.182304)scale(0.1 -0.1)\">\r\n       <use xlink:href=\"#DejaVuSans-30\"/>\r\n       <use x=\"63.623047\" xlink:href=\"#DejaVuSans-2e\"/>\r\n       <use x=\"95.410156\" xlink:href=\"#DejaVuSans-32\"/>\r\n      </g>\r\n     </g>\r\n    </g>\r\n    <g id=\"ytick_4\">\r\n     <g id=\"line2d_13\">\r\n      <g>\r\n       <use style=\"stroke:#000000;stroke-width:0.8;\" x=\"53.459375\" xlink:href=\"#mf0e1623cd1\" y=\"88.196447\"/>\r\n      </g>\r\n     </g>\r\n     <g id=\"text_14\">\r\n      <!-- 0.3 -->\r\n      <g transform=\"translate(30.55625 91.995665)scale(0.1 -0.1)\">\r\n       <defs>\r\n        <path d=\"M 2597 2516 \r\nQ 3050 2419 3304 2112 \r\nQ 3559 1806 3559 1356 \r\nQ 3559 666 3084 287 \r\nQ 2609 -91 1734 -91 \r\nQ 1441 -91 1130 -33 \r\nQ 819 25 488 141 \r\nL 488 750 \r\nQ 750 597 1062 519 \r\nQ 1375 441 1716 441 \r\nQ 2309 441 2620 675 \r\nQ 2931 909 2931 1356 \r\nQ 2931 1769 2642 2001 \r\nQ 2353 2234 1838 2234 \r\nL 1294 2234 \r\nL 1294 2753 \r\nL 1863 2753 \r\nQ 2328 2753 2575 2939 \r\nQ 2822 3125 2822 3475 \r\nQ 2822 3834 2567 4026 \r\nQ 2313 4219 1838 4219 \r\nQ 1578 4219 1281 4162 \r\nQ 984 4106 628 3988 \r\nL 628 4550 \r\nQ 988 4650 1302 4700 \r\nQ 1616 4750 1894 4750 \r\nQ 2613 4750 3031 4423 \r\nQ 3450 4097 3450 3541 \r\nQ 3450 3153 3228 2886 \r\nQ 3006 2619 2597 2516 \r\nz\r\n\" id=\"DejaVuSans-33\" transform=\"scale(0.015625)\"/>\r\n       </defs>\r\n       <use xlink:href=\"#DejaVuSans-30\"/>\r\n       <use x=\"63.623047\" xlink:href=\"#DejaVuSans-2e\"/>\r\n       <use x=\"95.410156\" xlink:href=\"#DejaVuSans-33\"/>\r\n      </g>\r\n     </g>\r\n    </g>\r\n    <g id=\"ytick_5\">\r\n     <g id=\"line2d_14\">\r\n      <g>\r\n       <use style=\"stroke:#000000;stroke-width:0.8;\" x=\"53.459375\" xlink:href=\"#mf0e1623cd1\" y=\"46.009808\"/>\r\n      </g>\r\n     </g>\r\n     <g id=\"text_15\">\r\n      <!-- 0.4 -->\r\n      <g transform=\"translate(30.55625 49.809026)scale(0.1 -0.1)\">\r\n       <defs>\r\n        <path d=\"M 2419 4116 \r\nL 825 1625 \r\nL 2419 1625 \r\nL 2419 4116 \r\nz\r\nM 2253 4666 \r\nL 3047 4666 \r\nL 3047 1625 \r\nL 3713 1625 \r\nL 3713 1100 \r\nL 3047 1100 \r\nL 3047 0 \r\nL 2419 0 \r\nL 2419 1100 \r\nL 313 1100 \r\nL 313 1709 \r\nL 2253 4666 \r\nz\r\n\" id=\"DejaVuSans-34\" transform=\"scale(0.015625)\"/>\r\n       </defs>\r\n       <use xlink:href=\"#DejaVuSans-30\"/>\r\n       <use x=\"63.623047\" xlink:href=\"#DejaVuSans-2e\"/>\r\n       <use x=\"95.410156\" xlink:href=\"#DejaVuSans-34\"/>\r\n      </g>\r\n     </g>\r\n    </g>\r\n    <g id=\"text_16\">\r\n     <!-- $\\kappa(t)$ -->\r\n     <g transform=\"translate(22.396875 133.62)rotate(-90)scale(0.2 -0.2)\">\r\n      <defs>\r\n       <path d=\"M 938 3500 \r\nL 1531 3500 \r\nL 1247 2047 \r\nL 3041 3500 \r\nL 3741 3500 \r\nL 2106 2181 \r\nL 3275 0 \r\nL 2572 0 \r\nL 1628 1806 \r\nL 1122 1403 \r\nL 850 0 \r\nL 256 0 \r\nL 938 3500 \r\nz\r\n\" id=\"DejaVuSans-Oblique-3ba\" transform=\"scale(0.015625)\"/>\r\n       <path d=\"M 1984 4856 \r\nQ 1566 4138 1362 3434 \r\nQ 1159 2731 1159 2009 \r\nQ 1159 1288 1364 580 \r\nQ 1569 -128 1984 -844 \r\nL 1484 -844 \r\nQ 1016 -109 783 600 \r\nQ 550 1309 550 2009 \r\nQ 550 2706 781 3412 \r\nQ 1013 4119 1484 4856 \r\nL 1984 4856 \r\nz\r\n\" id=\"DejaVuSans-28\" transform=\"scale(0.015625)\"/>\r\n       <path d=\"M 513 4856 \r\nL 1013 4856 \r\nQ 1481 4119 1714 3412 \r\nQ 1947 2706 1947 2009 \r\nQ 1947 1309 1714 600 \r\nQ 1481 -109 1013 -844 \r\nL 513 -844 \r\nQ 928 -128 1133 580 \r\nQ 1338 1288 1338 2009 \r\nQ 1338 2731 1133 3434 \r\nQ 928 4138 513 4856 \r\nz\r\n\" id=\"DejaVuSans-29\" transform=\"scale(0.015625)\"/>\r\n      </defs>\r\n      <use transform=\"translate(0 0.125)\" xlink:href=\"#DejaVuSans-Oblique-3ba\"/>\r\n      <use transform=\"translate(58.935547 0.125)\" xlink:href=\"#DejaVuSans-28\"/>\r\n      <use transform=\"translate(97.949219 0.125)\" xlink:href=\"#DejaVuSans-Oblique-74\"/>\r\n      <use transform=\"translate(137.158203 0.125)\" xlink:href=\"#DejaVuSans-29\"/>\r\n     </g>\r\n    </g>\r\n   </g>\r\n   <g id=\"line2d_15\">\r\n    <path clip-path=\"url(#pc86ecba1ec)\" d=\"M 68.677557 214.756364 \r\nL 71.751937 213.32087 \r\nL 74.826317 211.848838 \r\nL 77.900697 210.336749 \r\nL 80.975077 208.780908 \r\nL 84.049458 207.17743 \r\nL 87.123838 205.522231 \r\nL 90.198218 203.811019 \r\nL 93.272598 202.039282 \r\nL 96.346978 200.20228 \r\nL 99.421358 198.295037 \r\nL 102.495739 196.312329 \r\nL 105.570119 194.248679 \r\nL 108.644499 192.098352 \r\nL 111.718879 189.855352 \r\nL 114.793259 187.513422 \r\nL 117.867639 185.066048 \r\nL 120.94202 182.506466 \r\nL 124.0164 179.827682 \r\nL 127.09078 177.02249 \r\nL 130.16516 174.083506 \r\nL 133.23954 171.003213 \r\nL 136.31392 167.774016 \r\nL 139.388301 164.388315 \r\nL 142.462681 160.8386 \r\nL 145.537061 157.117566 \r\nL 148.611441 153.218251 \r\nL 151.685821 149.134212 \r\nL 154.760201 144.859725 \r\nL 157.834582 140.390034 \r\nL 160.908962 135.721635 \r\nL 163.983342 130.852604 \r\nL 167.057722 125.782982 \r\nL 170.132102 120.515199 \r\nL 173.206482 115.054557 \r\nL 176.280863 109.409743 \r\nL 179.355243 103.593399 \r\nL 182.429623 97.622693 \r\nL 185.504003 91.51992 \r\nL 188.578383 85.313062 \r\nL 191.652763 79.036312 \r\nL 194.727144 72.730493 \r\nL 197.801524 66.443347 \r\nL 200.875904 60.22961 \r\nL 203.950284 54.150849 \r\nL 207.024664 48.274969 \r\nL 210.099044 42.675368 \r\nL 213.173425 37.429669 \r\nL 216.247805 32.618047 \r\nL 219.322185 28.321132 \r\nL 222.396565 24.617552 \r\nL 225.470945 21.581207 \r\nL 228.545325 19.278394 \r\nL 231.619706 17.764954 \r\nL 234.694086 17.083636 \r\nL 237.768466 17.261869 \r\nL 240.842846 18.310118 \r\nL 243.917226 20.220996 \r\nL 246.991606 22.969197 \r\nL 250.065987 26.512298 \r\nL 253.140367 30.792368 \r\nL 256.214747 35.738279 \r\nL 259.289127 41.268533 \r\nL 262.363507 47.294415 \r\nL 265.437887 53.723241 \r\nL 268.512268 60.461502 \r\nL 271.586648 67.417732 \r\nL 274.661028 74.504952 \r\nL 277.735408 81.64263 \r\nL 280.809788 88.758109 \r\nL 283.884168 95.787513 \r\nL 286.958549 102.676182 \r\nL 290.032929 109.378692 \r\nL 293.107309 115.858544 \r\nL 296.181689 122.087604 \r\nL 299.256069 128.045368 \r\nL 302.330449 133.71812 \r\nL 305.40483 139.098054 \r\nL 308.47921 144.182388 \r\nL 311.55359 148.972517 \r\nL 314.62797 153.473229 \r\nL 317.70235 157.691992 \r\nL 320.77673 161.638322 \r\nL 323.851111 165.323237 \r\nL 326.925491 168.758794 \r\nL 329.999871 171.957697 \r\nL 333.074251 174.932979 \r\nL 336.148631 177.697746 \r\nL 339.223011 180.264972 \r\nL 342.297392 182.647345 \r\nL 345.371772 184.857146 \r\nL 348.446152 186.906168 \r\nL 351.520532 188.805658 \r\nL 354.594912 190.56628 \r\nL 357.669292 192.198097 \r\nL 360.743673 193.710567 \r\nL 363.818053 195.112549 \r\nL 366.892433 196.412314 \r\nL 369.966813 197.617571 \r\nL 373.041193 198.735482 \r\n\" style=\"fill:none;stroke:#1f77b4;stroke-linecap:square;stroke-width:1.5;\"/>\r\n   </g>\r\n   <g id=\"patch_3\">\r\n    <path d=\"M 53.459375 224.64 \r\nL 53.459375 7.2 \r\n\" style=\"fill:none;stroke:#000000;stroke-linecap:square;stroke-linejoin:miter;stroke-width:0.8;\"/>\r\n   </g>\r\n   <g id=\"patch_4\">\r\n    <path d=\"M 388.259375 224.64 \r\nL 388.259375 7.2 \r\n\" style=\"fill:none;stroke:#000000;stroke-linecap:square;stroke-linejoin:miter;stroke-width:0.8;\"/>\r\n   </g>\r\n   <g id=\"patch_5\">\r\n    <path d=\"M 53.459375 224.64 \r\nL 388.259375 224.64 \r\n\" style=\"fill:none;stroke:#000000;stroke-linecap:square;stroke-linejoin:miter;stroke-width:0.8;\"/>\r\n   </g>\r\n   <g id=\"patch_6\">\r\n    <path d=\"M 53.459375 7.2 \r\nL 388.259375 7.2 \r\n\" style=\"fill:none;stroke:#000000;stroke-linecap:square;stroke-linejoin:miter;stroke-width:0.8;\"/>\r\n   </g>\r\n  </g>\r\n </g>\r\n <defs>\r\n  <clipPath id=\"pc86ecba1ec\">\r\n   <rect height=\"217.44\" width=\"334.8\" x=\"53.459375\" y=\"7.2\"/>\r\n  </clipPath>\r\n </defs>\r\n</svg>\r\n",
      "image/png": "[encoded data removed]"
     },
     "metadata": {
      "needs_background": "light"
     }
    }
   ],
   "metadata": {}
  },
  {
   "cell_type": "markdown",
   "source": [
    "# Partial/Directional Derivatives"
   ],
   "metadata": {}
  },
  {
   "cell_type": "code",
   "execution_count": 268,
   "source": [
    "x, y, z = smp.symbols('x y z')"
   ],
   "outputs": [],
   "metadata": {}
  },
  {
   "cell_type": "markdown",
   "source": [
    "## Basics"
   ],
   "metadata": {}
  },
  {
   "cell_type": "markdown",
   "source": [
    "Partial Derivatives $\\partial f / \\partial x$ and $\\partial f / \\partial y$ of $f(x,y)=y^2\\sin(x+y)$"
   ],
   "metadata": {}
  },
  {
   "cell_type": "code",
   "execution_count": 269,
   "source": [
    "f = y**2 * smp.sin(x+y)\r\n",
    "smp.diff(f,x)"
   ],
   "outputs": [
    {
     "output_type": "execute_result",
     "data": {
      "text/plain": [
       "y**2*cos(x + y)"
      ],
      "text/latex": [
       "$\\displaystyle y^{2} \\cos{\\left(x + y \\right)}$"
      ]
     },
     "metadata": {},
     "execution_count": 269
    }
   ],
   "metadata": {}
  },
  {
   "cell_type": "code",
   "execution_count": 270,
   "source": [
    "smp.diff(f,y)"
   ],
   "outputs": [
    {
     "output_type": "execute_result",
     "data": {
      "text/plain": [
       "y**2*cos(x + y) + 2*y*sin(x + y)"
      ],
      "text/latex": [
       "$\\displaystyle y^{2} \\cos{\\left(x + y \\right)} + 2 y \\sin{\\left(x + y \\right)}$"
      ]
     },
     "metadata": {},
     "execution_count": 270
    }
   ],
   "metadata": {}
  },
  {
   "cell_type": "markdown",
   "source": [
    "Or more complicated things like $\\frac{\\partial^3 f}{\\partial xy^2}$"
   ],
   "metadata": {}
  },
  {
   "cell_type": "code",
   "execution_count": 271,
   "source": [
    "smp.diff(f,y,y,x)"
   ],
   "outputs": [
    {
     "output_type": "execute_result",
     "data": {
      "text/plain": [
       "-y**2*cos(x + y) - 4*y*sin(x + y) + 2*cos(x + y)"
      ],
      "text/latex": [
       "$\\displaystyle - y^{2} \\cos{\\left(x + y \\right)} - 4 y \\sin{\\left(x + y \\right)} + 2 \\cos{\\left(x + y \\right)}$"
      ]
     },
     "metadata": {},
     "execution_count": 271
    }
   ],
   "metadata": {}
  },
  {
   "cell_type": "markdown",
   "source": [
    "## The Chain Rule"
   ],
   "metadata": {}
  },
  {
   "cell_type": "code",
   "execution_count": 272,
   "source": [
    "t = smp.symbols('t')\r\n",
    "x, y, z, w, v =smp.symbols('x, y, z w v', cls=smp.Function)"
   ],
   "outputs": [],
   "metadata": {}
  },
  {
   "cell_type": "markdown",
   "source": [
    "* Suppose $x$, $y$, and $z$ are functions of $t$ \n",
    "* $w$ is a function of $x$, $y$, and $z$. i.e $w=w(x,y,z)$\n",
    "\n",
    "Find $dw/dt$"
   ],
   "metadata": {}
  },
  {
   "cell_type": "code",
   "execution_count": 273,
   "source": [
    "x = x(t)\r\n",
    "y = y(t)\r\n",
    "z = z(t)\r\n",
    "w = w(x, y, z)"
   ],
   "outputs": [],
   "metadata": {}
  },
  {
   "cell_type": "markdown",
   "source": [
    "Can keep things in a more functional form:"
   ],
   "metadata": {}
  },
  {
   "cell_type": "code",
   "execution_count": 274,
   "source": [
    "smp.diff(w,t)"
   ],
   "outputs": [
    {
     "output_type": "execute_result",
     "data": {
      "text/plain": [
       "Derivative(w(x(t), y(t), z(t)), x(t))*Derivative(x(t), t) + Derivative(w(x(t), y(t), z(t)), y(t))*Derivative(y(t), t) + Derivative(w(x(t), y(t), z(t)), z(t))*Derivative(z(t), t)"
      ],
      "text/latex": [
       "$\\displaystyle \\frac{d}{d x{\\left(t \\right)}} w{\\left(x{\\left(t \\right)},y{\\left(t \\right)},z{\\left(t \\right)} \\right)} \\frac{d}{d t} x{\\left(t \\right)} + \\frac{d}{d y{\\left(t \\right)}} w{\\left(x{\\left(t \\right)},y{\\left(t \\right)},z{\\left(t \\right)} \\right)} \\frac{d}{d t} y{\\left(t \\right)} + \\frac{d}{d z{\\left(t \\right)}} w{\\left(x{\\left(t \\right)},y{\\left(t \\right)},z{\\left(t \\right)} \\right)} \\frac{d}{d t} z{\\left(t \\right)}$"
      ]
     },
     "metadata": {},
     "execution_count": 274
    }
   ],
   "metadata": {}
  },
  {
   "cell_type": "markdown",
   "source": [
    "Or put in specific functions:"
   ],
   "metadata": {}
  },
  {
   "cell_type": "code",
   "execution_count": 275,
   "source": [
    "w1 = x**2+smp.exp(y)*smp.sin(z)\r\n",
    "smp.diff(w1,t).subs([(x, smp.sin(t)),\r\n",
    "                    (y, smp.cos(t)),\r\n",
    "                    (z, t**2)]).doit()"
   ],
   "outputs": [
    {
     "output_type": "execute_result",
     "data": {
      "text/plain": [
       "2*t*exp(cos(t))*cos(t**2) - exp(cos(t))*sin(t)*sin(t**2) + 2*sin(t)*cos(t)"
      ],
      "text/latex": [
       "$\\displaystyle 2 t e^{\\cos{\\left(t \\right)}} \\cos{\\left(t^{2} \\right)} - e^{\\cos{\\left(t \\right)}} \\sin{\\left(t \\right)} \\sin{\\left(t^{2} \\right)} + 2 \\sin{\\left(t \\right)} \\cos{\\left(t \\right)}$"
      ]
     },
     "metadata": {},
     "execution_count": 275
    }
   ],
   "metadata": {}
  },
  {
   "cell_type": "markdown",
   "source": [
    "## Gradients"
   ],
   "metadata": {}
  },
  {
   "cell_type": "markdown",
   "source": [
    "Gradients: $\\nabla f$. Now we are dealing with particular coordinate systems, so we must be careful:"
   ],
   "metadata": {}
  },
  {
   "cell_type": "code",
   "execution_count": 276,
   "source": [
    "C = CoordSys3D('')"
   ],
   "outputs": [],
   "metadata": {}
  },
  {
   "cell_type": "code",
   "execution_count": 277,
   "source": [
    "f = C.x*smp.sin(C.y)\r\n",
    "gradient(f)"
   ],
   "outputs": [
    {
     "output_type": "execute_result",
     "data": {
      "text/plain": [
       "(sin(.y))*.i + (.x*cos(.y))*.j"
      ],
      "text/latex": [
       "$\\displaystyle (\\sin{\\left(\\mathbf{{y}_{}} \\right)})\\mathbf{\\hat{i}_{}} + (\\mathbf{{x}_{}} \\cos{\\left(\\mathbf{{y}_{}} \\right)})\\mathbf{\\hat{j}_{}}$"
      ]
     },
     "metadata": {},
     "execution_count": 277
    }
   ],
   "metadata": {}
  },
  {
   "cell_type": "code",
   "execution_count": 278,
   "source": [
    "gradient(f).to_matrix(C)"
   ],
   "outputs": [
    {
     "output_type": "execute_result",
     "data": {
      "text/plain": [
       "Matrix([\n",
       "[   sin(.y)],\n",
       "[.x*cos(.y)],\n",
       "[         0]])"
      ],
      "text/latex": [
       "$\\displaystyle \\left[\\begin{matrix}\\sin{\\left(\\mathbf{{y}_{}} \\right)}\\\\\\mathbf{{x}_{}} \\cos{\\left(\\mathbf{{y}_{}} \\right)}\\\\0\\end{matrix}\\right]$"
      ]
     },
     "metadata": {},
     "execution_count": 278
    }
   ],
   "metadata": {}
  },
  {
   "cell_type": "code",
   "execution_count": 279,
   "source": [
    "gradient(f).to_matrix(C).subs([(C.y, 1)])"
   ],
   "outputs": [
    {
     "output_type": "execute_result",
     "data": {
      "text/plain": [
       "Matrix([\n",
       "[   sin(1)],\n",
       "[.x*cos(1)],\n",
       "[        0]])"
      ],
      "text/latex": [
       "$\\displaystyle \\left[\\begin{matrix}\\sin{\\left(1 \\right)}\\\\\\mathbf{{x}_{}} \\cos{\\left(1 \\right)}\\\\0\\end{matrix}\\right]$"
      ]
     },
     "metadata": {},
     "execution_count": 279
    }
   ],
   "metadata": {}
  },
  {
   "cell_type": "markdown",
   "source": [
    "## Directional Derivatives"
   ],
   "metadata": {}
  },
  {
   "cell_type": "markdown",
   "source": [
    "Directional derivatives $D_u f = \\nabla f \\cdot u$"
   ],
   "metadata": {}
  },
  {
   "cell_type": "code",
   "execution_count": 280,
   "source": [
    "u = 4*C.i - 3*C.j + 2*C.k\r\n",
    "# Make into unit vector\r\n",
    "u = u.normalize()\r\n",
    "u"
   ],
   "outputs": [
    {
     "output_type": "execute_result",
     "data": {
      "text/plain": [
       "(4*sqrt(29)/29)*.i + (-3*sqrt(29)/29)*.j + (2*sqrt(29)/29)*.k"
      ],
      "text/latex": [
       "$\\displaystyle (\\frac{4 \\sqrt{29}}{29})\\mathbf{\\hat{i}_{}} + (- \\frac{3 \\sqrt{29}}{29})\\mathbf{\\hat{j}_{}} + (\\frac{2 \\sqrt{29}}{29})\\mathbf{\\hat{k}_{}}$"
      ]
     },
     "metadata": {},
     "execution_count": 280
    }
   ],
   "metadata": {}
  },
  {
   "cell_type": "code",
   "execution_count": 281,
   "source": [
    "gradient(f).dot(u)"
   ],
   "outputs": [
    {
     "output_type": "execute_result",
     "data": {
      "text/plain": [
       "-3*sqrt(29)*.x*cos(.y)/29 + 4*sqrt(29)*sin(.y)/29"
      ],
      "text/latex": [
       "$\\displaystyle - \\frac{3 \\sqrt{29} \\mathbf{{x}_{}} \\cos{\\left(\\mathbf{{y}_{}} \\right)}}{29} + \\frac{4 \\sqrt{29} \\sin{\\left(\\mathbf{{y}_{}} \\right)}}{29}$"
      ]
     },
     "metadata": {},
     "execution_count": 281
    }
   ],
   "metadata": {}
  },
  {
   "cell_type": "markdown",
   "source": [
    "## Extreme Values and Saddle Points"
   ],
   "metadata": {}
  },
  {
   "cell_type": "markdown",
   "source": [
    "Extreme values of $f(x,y)$ can occur at\n",
    "\n",
    "* 1. Boundary points of the domain of $f$\n",
    "* 2. Critical Points ($f_x=f_y=0$)\n",
    "\n",
    "If\n",
    "\n",
    "* (i) $f_{xx}<0$ and $f_{xx}f_{yy} - f_{xy}^2>0$ at (a,b) then **local maximum**\n",
    "* (ii) $f_{xx}>0$ and $f_{xx}f_{yy} - f_{xy}^2>0$ at (a,b) then **local minimum**\n",
    "* (iii) $f_{xx}f_{yy} - f_{xy}^2 < 0$ at (a,b) then **saddle point**\n",
    "* (iv) $f_{xx}f_{yy} - f_{xy}^2 = 0$ at (a,b) then **inconclusive**"
   ],
   "metadata": {}
  },
  {
   "cell_type": "code",
   "execution_count": 282,
   "source": [
    "x, y = smp.symbols('x y', real=True)\r\n",
    "f = x**3 + 3*x*y + y**3\r\n",
    "f"
   ],
   "outputs": [
    {
     "output_type": "execute_result",
     "data": {
      "text/plain": [
       "x**3 + 3*x*y + y**3"
      ],
      "text/latex": [
       "$\\displaystyle x^{3} + 3 x y + y^{3}$"
      ]
     },
     "metadata": {},
     "execution_count": 282
    }
   ],
   "metadata": {}
  },
  {
   "cell_type": "code",
   "execution_count": 283,
   "source": [
    "smp.solve([smp.diff(f,x), smp.diff(f, y)])"
   ],
   "outputs": [
    {
     "output_type": "execute_result",
     "data": {
      "text/plain": [
       "[{x: -1, y: -1}, {x: 0, y: 0}]"
      ]
     },
     "metadata": {},
     "execution_count": 283
    }
   ],
   "metadata": {}
  },
  {
   "cell_type": "code",
   "execution_count": 284,
   "source": [
    "fxx = smp.diff(f,x,x)\r\n",
    "fyy = smp.diff(f,y,y)\r\n",
    "fxy = smp.diff(f,x,y)"
   ],
   "outputs": [],
   "metadata": {}
  },
  {
   "cell_type": "markdown",
   "source": [
    "Testing the first point"
   ],
   "metadata": {}
  },
  {
   "cell_type": "code",
   "execution_count": 285,
   "source": [
    "fxx.subs([(x,-1),(y,-1)])"
   ],
   "outputs": [
    {
     "output_type": "execute_result",
     "data": {
      "text/plain": [
       "-6"
      ],
      "text/latex": [
       "$\\displaystyle -6$"
      ]
     },
     "metadata": {},
     "execution_count": 285
    }
   ],
   "metadata": {}
  },
  {
   "cell_type": "code",
   "execution_count": 286,
   "source": [
    "test = fxx*fyy-fxy**2\r\n",
    "test.subs([(x,-1),(y,-1)])"
   ],
   "outputs": [
    {
     "output_type": "execute_result",
     "data": {
      "text/plain": [
       "27"
      ],
      "text/latex": [
       "$\\displaystyle 27$"
      ]
     },
     "metadata": {},
     "execution_count": 286
    }
   ],
   "metadata": {}
  },
  {
   "cell_type": "markdown",
   "source": [
    "Thus the first point is a local maximum!"
   ],
   "metadata": {}
  },
  {
   "cell_type": "markdown",
   "source": [
    "## Lagrange Multipliers"
   ],
   "metadata": {}
  },
  {
   "cell_type": "markdown",
   "source": [
    "Minimize $f(x,y,z)$ subject to the constraint $g(x,y,z)=0$\n",
    "\n",
    "* Requires solving the two equations $\\nabla f = \\lambda \\nabla g$ and $g(x,y,z)=0$\n",
    "\n",
    "**Example**: A space probe has the shape of an ellipsoid $4x^2 + y^2 + 4z^2 = 16$ and after sitting in the sun for an hour. the temperature on its surface is given by $T(x,y,z)=8x^2+4yz-16z+600$. Find the hottest point on the surface\n",
    "\n",
    "Note that $g=4x^2 + y^2 + 4z^2 - 16 = 0$ and $f=T = 8x^2+4yz-16z+600$ here"
   ],
   "metadata": {}
  },
  {
   "cell_type": "code",
   "execution_count": 287,
   "source": [
    "C = CoordSys3D('')"
   ],
   "outputs": [],
   "metadata": {}
  },
  {
   "cell_type": "code",
   "execution_count": 288,
   "source": [
    "lam = smp.symbols('\\lambda')\r\n",
    "g = 4*C.x**2 + C.y**2 + 4*C.z**2 - 16\r\n",
    "f = 8*C.x**2 + 4*C.y*C.z-16*C.z+600\r\n",
    "eq1 = gradient(f)-lam*gradient(g)\r\n",
    "eq1 = eq1.to_matrix(C)\r\n",
    "eq2 = g\r\n",
    "sols = smp.solve([eq1, eq2])\r\n",
    "sols"
   ],
   "outputs": [
    {
     "output_type": "execute_result",
     "data": {
      "text/plain": [
       "[{.x: -4/3, .y: -4/3, .z: -4/3, \\lambda: 2},\n",
       " {.x: 0, .y: -2, .z: -sqrt(3), \\lambda: sqrt(3)},\n",
       " {.x: 0, .y: -2, .z: sqrt(3), \\lambda: -sqrt(3)},\n",
       " {.x: 0, .y: 4, .z: 0, \\lambda: 0},\n",
       " {.x: 4/3, .y: -4/3, .z: -4/3, \\lambda: 2}]"
      ]
     },
     "metadata": {},
     "execution_count": 288
    }
   ],
   "metadata": {}
  },
  {
   "cell_type": "code",
   "execution_count": 289,
   "source": [
    "eq1 = gradient(f)-lam*gradient(g)\r\n",
    "eq1 = eq1.to_matrix(C)"
   ],
   "outputs": [],
   "metadata": {}
  },
  {
   "cell_type": "code",
   "execution_count": 290,
   "source": [
    "for sol in sols:\r\n",
    "    print(f.subs(sol).evalf())"
   ],
   "outputs": [
    {
     "output_type": "stream",
     "name": "stdout",
     "text": [
      "642.666666666667\n",
      "641.569219381653\n",
      "558.430780618347\n",
      "600.000000000000\n",
      "642.666666666667\n"
     ]
    }
   ],
   "metadata": {}
  },
  {
   "cell_type": "markdown",
   "source": [
    "First and last solutions are the points where the probe is the hottest."
   ],
   "metadata": {}
  },
  {
   "cell_type": "markdown",
   "source": [
    "# Multiple Integrals"
   ],
   "metadata": {}
  },
  {
   "cell_type": "markdown",
   "source": [
    "In rare cases these can be done symbolically:\n",
    "\n",
    "$$\\int_0^1 \\int_0^{1-x^2} \\int_3^{4-x^2-y^2} xdzdydx$$"
   ],
   "metadata": {}
  },
  {
   "cell_type": "code",
   "execution_count": 291,
   "source": [
    "x, y, z = smp.symbols('x, y, z')\r\n",
    "f = x\r\n",
    "smp.integrate(f, (z, 3, 4-x**2-y**2), (y, 0, 1-x**2), (x, 0, 1))"
   ],
   "outputs": [
    {
     "output_type": "execute_result",
     "data": {
      "text/plain": [
       "1/8"
      ],
      "text/latex": [
       "$\\displaystyle \\frac{1}{8}$"
      ]
     },
     "metadata": {},
     "execution_count": 291
    }
   ],
   "metadata": {}
  },
  {
   "cell_type": "markdown",
   "source": [
    "But most of the time they need to be done numerically, such as in this example:\n",
    "\n",
    "$$\\int_0^1 \\int_0^{1-x^2} \\int_3^{4-x^2-y^2} xe^{-y}\\cos(z)dzdydx$$"
   ],
   "metadata": {}
  },
  {
   "cell_type": "code",
   "execution_count": 292,
   "source": [
    "# Wont Run!!\r\n",
    "#x, y, z = smp.symbols('x, y, z')\r\n",
    "#f = x*smp.exp(-y)*smp.cos(z)\r\n",
    "#smp.integrate(f, (z, 3, 4-x**2-y**2), (y, 0, 1-x**2), (x, 0, 1))"
   ],
   "outputs": [],
   "metadata": {}
  },
  {
   "cell_type": "markdown",
   "source": [
    "Use scipy to evaluate this numerically"
   ],
   "metadata": {}
  },
  {
   "cell_type": "code",
   "execution_count": 293,
   "source": [
    "from scipy.integrate import tplquad\r\n",
    "f = lambda z, y, x: x*np.exp(-y)*np.cos(z)\r\n",
    "tplquad(f, 0, 1,\r\n",
    "        lambda x: 0, lambda x: 1-x**2,\r\n",
    "        lambda x, y: 3, lambda x, y: 4-x**2-y**2)[0]"
   ],
   "outputs": [
    {
     "output_type": "execute_result",
     "data": {
      "text/plain": [
       "-0.09109526451447894"
      ]
     },
     "metadata": {},
     "execution_count": 293
    }
   ],
   "metadata": {}
  },
  {
   "cell_type": "markdown",
   "source": [
    "# Integrals and Vector Fields"
   ],
   "metadata": {}
  },
  {
   "cell_type": "markdown",
   "source": [
    "## Line Integrals (Scalar)"
   ],
   "metadata": {}
  },
  {
   "cell_type": "markdown",
   "source": [
    "Given $\\vec{r}(t) = \\left< g(t), h(t), k(t) \\right>$ the line integral of $f(x,y,z)$ along the curve is\n",
    "\n",
    "$$\\int_C f(x,y,z) ds = \\int_a^b f(g(t), h(t), k(t))|d\\vec{r}/dt|dt$$"
   ],
   "metadata": {}
  },
  {
   "cell_type": "code",
   "execution_count": 294,
   "source": [
    "t = smp.symbols('t', real=True)\r\n",
    "x, y, z, f = smp.symbols('x y z f', cls=smp.Function, real=True)\r\n",
    "x = x(t)\r\n",
    "y = y(t)\r\n",
    "z = z(t)\r\n",
    "r = smp.Matrix([x, y, z])\r\n",
    "f = f(x,y,z)"
   ],
   "outputs": [],
   "metadata": {}
  },
  {
   "cell_type": "code",
   "execution_count": 295,
   "source": [
    "integrand = f*smp.diff(r,t).norm()\r\n",
    "integrand"
   ],
   "outputs": [
    {
     "output_type": "execute_result",
     "data": {
      "text/plain": [
       "sqrt(Abs(Derivative(x(t), t))**2 + Abs(Derivative(y(t), t))**2 + Abs(Derivative(z(t), t))**2)*f(x(t), y(t), z(t))"
      ],
      "text/latex": [
       "$\\displaystyle \\sqrt{\\left|{\\frac{d}{d t} x{\\left(t \\right)}}\\right|^{2} + \\left|{\\frac{d}{d t} y{\\left(t \\right)}}\\right|^{2} + \\left|{\\frac{d}{d t} z{\\left(t \\right)}}\\right|^{2}} f{\\left(x{\\left(t \\right)},y{\\left(t \\right)},z{\\left(t \\right)} \\right)}$"
      ]
     },
     "metadata": {},
     "execution_count": 295
    }
   ],
   "metadata": {}
  },
  {
   "cell_type": "markdown",
   "source": [
    "Suppose \n",
    "* $\\vec{r}(t) = \\left<\\cos(t), \\sin(t), t \\right>$ \n",
    "* $f(x,y,z)=2xy+\\sqrt{z}$ \n",
    "\n",
    "and we are going from $t=0$ to $t=2\\pi$. In this case it can be solved symbolically:"
   ],
   "metadata": {}
  },
  {
   "cell_type": "code",
   "execution_count": 296,
   "source": [
    "integrand1 = integrand.subs([(f, 2*x*y+smp.sqrt(z)),\r\n",
    "                            (x, smp.cos(t)),\r\n",
    "                            (y, smp.sin(t)),\r\n",
    "                            (z, t)]).doit().simplify()\r\n",
    "smp.integrate(integrand1, (t, 0, 2*smp.pi))"
   ],
   "outputs": [
    {
     "output_type": "execute_result",
     "data": {
      "text/plain": [
       "sqrt(2)/2 + sqrt(2)*(-1/2 + 4*sqrt(2)*pi**(3/2)/3)"
      ],
      "text/latex": [
       "$\\displaystyle \\frac{\\sqrt{2}}{2} + \\sqrt{2} \\left(- \\frac{1}{2} + \\frac{4 \\sqrt{2} \\pi^{\\frac{3}{2}}}{3}\\right)$"
      ]
     },
     "metadata": {},
     "execution_count": 296
    }
   ],
   "metadata": {}
  },
  {
   "cell_type": "markdown",
   "source": [
    "In general, can't be done symbolically. Consider now\n",
    "\n",
    "* $\\vec{r}(t) = \\left<3\\cos(t), 2\\sin(t), e^{t/4} \\right>$ \n",
    "* $f(x,y,z)=2xy+\\sqrt{z}$ \n",
    "\n",
    "and we are going from $t=0$ to $t=2\\pi$."
   ],
   "metadata": {}
  },
  {
   "cell_type": "code",
   "execution_count": 297,
   "source": [
    "integrand2 = integrand.subs([(f, 2*x*y+smp.sqrt(z)),\r\n",
    "                            (x, 3*smp.cos(t)),\r\n",
    "                            (y, smp.sin(t)),\r\n",
    "                            (z, smp.exp(t/4))]).doit().simplify()\r\n",
    "# Won't Run!\r\n",
    "#smp.integrate(integrand2, (t, 0, 2*smp.pi))"
   ],
   "outputs": [],
   "metadata": {}
  },
  {
   "cell_type": "code",
   "execution_count": 298,
   "source": [
    "integrand2"
   ],
   "outputs": [
    {
     "output_type": "execute_result",
     "data": {
      "text/plain": [
       "(exp(t/8) + 3*sin(2*t))*sqrt(exp(t/2) + 128*sin(t)**2 + 16)/4"
      ],
      "text/latex": [
       "$\\displaystyle \\frac{\\left(e^{\\frac{t}{8}} + 3 \\sin{\\left(2 t \\right)}\\right) \\sqrt{e^{\\frac{t}{2}} + 128 \\sin^{2}{\\left(t \\right)} + 16}}{4}$"
      ]
     },
     "metadata": {},
     "execution_count": 298
    }
   ],
   "metadata": {}
  },
  {
   "cell_type": "markdown",
   "source": [
    "Do it numerically using scipy's `quad` function"
   ],
   "metadata": {}
  },
  {
   "cell_type": "code",
   "execution_count": 299,
   "source": [
    "integrand2_num = smp.lambdify([t], integrand2)\r\n",
    "quad(integrand2_num, 0, 2*np.pi)[0]"
   ],
   "outputs": [
    {
     "output_type": "execute_result",
     "data": {
      "text/plain": [
       "21.055300456759795"
      ]
     },
     "metadata": {},
     "execution_count": 299
    }
   ],
   "metadata": {}
  },
  {
   "cell_type": "markdown",
   "source": [
    "## Line Integrals (Vector)"
   ],
   "metadata": {}
  },
  {
   "cell_type": "markdown",
   "source": [
    "Given $\\vec{r}(t) = \\left< g(t), h(t), k(t) \\right>$ the line integral of $\\vec{F}(x,y,z)$ along the curve is\n",
    "\n",
    "$$\\int_C \\vec{F}(x,y,z) \\cdot d\\vec{r} = \\int_a^b\\vec{F}(g(t), h(t), k(t)) \\cdot \\frac{d\\vec{r}}{dt} dt$$"
   ],
   "metadata": {}
  },
  {
   "cell_type": "code",
   "execution_count": 300,
   "source": [
    "t = smp.symbols('t', real=True)\r\n",
    "x, y, z, F1, F2, F3 = smp.symbols('x y z F_1, F_2, F_3', cls=smp.Function, real=True)\r\n",
    "x = x(t)\r\n",
    "y = y(t)\r\n",
    "z = z(t)\r\n",
    "F1 = F1(x,y,z)\r\n",
    "F2 = F2(x,y,z)\r\n",
    "F3 = F3(x,y,z)\r\n",
    "r = smp.Matrix([x, y, z])\r\n",
    "F = smp.Matrix([F1, F2, F3])"
   ],
   "outputs": [],
   "metadata": {}
  },
  {
   "cell_type": "code",
   "execution_count": 301,
   "source": [
    "integrand = F.dot(smp.diff(r,t))\r\n",
    "integrand"
   ],
   "outputs": [
    {
     "output_type": "execute_result",
     "data": {
      "text/plain": [
       "F_1(x(t), y(t), z(t))*Derivative(x(t), t) + F_2(x(t), y(t), z(t))*Derivative(y(t), t) + F_3(x(t), y(t), z(t))*Derivative(z(t), t)"
      ],
      "text/latex": [
       "$\\displaystyle \\operatorname{F_{1}}{\\left(x{\\left(t \\right)},y{\\left(t \\right)},z{\\left(t \\right)} \\right)} \\frac{d}{d t} x{\\left(t \\right)} + \\operatorname{F_{2}}{\\left(x{\\left(t \\right)},y{\\left(t \\right)},z{\\left(t \\right)} \\right)} \\frac{d}{d t} y{\\left(t \\right)} + \\operatorname{F_{3}}{\\left(x{\\left(t \\right)},y{\\left(t \\right)},z{\\left(t \\right)} \\right)} \\frac{d}{d t} z{\\left(t \\right)}$"
      ]
     },
     "metadata": {},
     "execution_count": 301
    }
   ],
   "metadata": {}
  },
  {
   "cell_type": "markdown",
   "source": [
    "Suppose $\\vec{F} = \\left< \\sqrt{z}, -2x, \\sqrt{y}\\right>$ and $\\vec{r}(t) = \\left<t, t^2, t^4 \\right>$ from $t=0$ to $t=1$"
   ],
   "metadata": {}
  },
  {
   "cell_type": "code",
   "execution_count": 302,
   "source": [
    "integrand1 = integrand.subs([(F1, smp.sqrt(z)),\r\n",
    "                             (F2, -2*x),\r\n",
    "                             (F3, smp.sqrt(y)),\r\n",
    "                             (x, t),\r\n",
    "                             (y, t**2),\r\n",
    "                             (z, t**4)]).doit().simplify()\r\n",
    "smp.integrate(integrand1, (t, 0, 1))"
   ],
   "outputs": [
    {
     "output_type": "execute_result",
     "data": {
      "text/plain": [
       "-1/5"
      ],
      "text/latex": [
       "$\\displaystyle - \\frac{1}{5}$"
      ]
     },
     "metadata": {},
     "execution_count": 302
    }
   ],
   "metadata": {}
  },
  {
   "cell_type": "markdown",
   "source": [
    "Often times this can't be done by hand, and one needs to evaluate numerically using scipy:\n",
    "\n",
    "Suppose $\\vec{F} = \\left< \\sqrt{|z|}, -2x, \\sqrt{|y|}\\right>$ and $\\vec{r}(t) = \\left<3\\cos^2(t), t^2, 2\\sin(t) \\right>$ from $t=0$ to $t=2\\pi$"
   ],
   "metadata": {}
  },
  {
   "cell_type": "code",
   "execution_count": 303,
   "source": [
    "integrand2 = integrand.subs([(F1, smp.sqrt(smp.Abs(z))),\r\n",
    "                             (F2, -2*x),\r\n",
    "                             (F3, smp.sqrt(smp.Abs(y))),\r\n",
    "                             (x, 3*smp.cos(t)**2),\r\n",
    "                             (y, t**2),\r\n",
    "                             (z, 2*smp.sin(t))]).doit().simplify()\r\n",
    "# Won't Run\r\n",
    "#smp.integrate(integrand2, (t, 0, 2*smp.pi))"
   ],
   "outputs": [],
   "metadata": {}
  },
  {
   "cell_type": "code",
   "execution_count": 304,
   "source": [
    "integrand2"
   ],
   "outputs": [
    {
     "output_type": "execute_result",
     "data": {
      "text/plain": [
       "2*(-6*t*cos(t) - 3*sqrt(2)*sin(t)*sqrt(Abs(sin(t))) + Abs(t))*cos(t)"
      ],
      "text/latex": [
       "$\\displaystyle 2 \\left(- 6 t \\cos{\\left(t \\right)} - 3 \\sqrt{2} \\sin{\\left(t \\right)} \\sqrt{\\left|{\\sin{\\left(t \\right)}}\\right|} + \\left|{t}\\right|\\right) \\cos{\\left(t \\right)}$"
      ]
     },
     "metadata": {},
     "execution_count": 304
    }
   ],
   "metadata": {}
  },
  {
   "cell_type": "markdown",
   "source": [
    "Do it numerically using scipy's `quad` function"
   ],
   "metadata": {}
  },
  {
   "cell_type": "code",
   "execution_count": 305,
   "source": [
    "integrand2_num = smp.lambdify([t], integrand2)\r\n",
    "quad(integrand2_num, 0, 2*np.pi)[0]"
   ],
   "outputs": [
    {
     "output_type": "execute_result",
     "data": {
      "text/plain": [
       "-118.4352528130723"
      ]
     },
     "metadata": {},
     "execution_count": 305
    }
   ],
   "metadata": {}
  },
  {
   "cell_type": "markdown",
   "source": [
    "## Surface Integrals (Scalar)"
   ],
   "metadata": {}
  },
  {
   "cell_type": "markdown",
   "source": [
    "Area of a surface parameterized by $\\vec{r}(u,v)$ is given by \n",
    "\n",
    "$$A = \\iint_S \\left| \\frac{d\\vec{r}}{du} \\times \\frac{d\\vec{r}}{dv} \\right| du dv$$\n",
    "\n",
    "The surface integral of a scalar function $G(\\vec{r})$ is given by\n",
    "\n",
    "$$\\iint_S G(\\vec{r}(u,v)) \\left| \\frac{d\\vec{r}}{du} \\times \\frac{d\\vec{r}}{dv} \\right| du dv$$"
   ],
   "metadata": {}
  },
  {
   "cell_type": "markdown",
   "source": [
    "2D parabola: $\\vec{r}(x,y) = \\left<x, y, x^2+y^2 \\right>$ and thus $\\vec{r}(\\rho, \\theta) = \\left<\\rho\\cos\\theta, \\rho\\sin\\theta, \\rho^2\\right>$. Suppose the surface density is given by $G(x,y,z)=x^2+y^2$. Find surface integral for $0<\\rho<1$ and $0<\\theta<2\\pi$"
   ],
   "metadata": {}
  },
  {
   "cell_type": "code",
   "execution_count": 306,
   "source": [
    "rho, the = smp.symbols(r'\\rho \\theta',pos=True, real=True)\r\n",
    "x, y, z, G = smp.symbols('x y z G', cls=smp.Function, real=True)\r\n",
    "x = x(rho, the)\r\n",
    "y = y(rho, the)\r\n",
    "z = z(rho, the)\r\n",
    "G = G(x,y,z)\r\n",
    "r = smp.Matrix([x, y, z])"
   ],
   "outputs": [],
   "metadata": {}
  },
  {
   "cell_type": "code",
   "execution_count": 307,
   "source": [
    "integrand = G*smp.diff(r,rho).cross(smp.diff(r,the)).norm()\r\n",
    "integrand"
   ],
   "outputs": [
    {
     "output_type": "execute_result",
     "data": {
      "text/plain": [
       "sqrt(Abs(Derivative(x(\\rho, \\theta), \\rho)*Derivative(y(\\rho, \\theta), \\theta) - Derivative(x(\\rho, \\theta), \\theta)*Derivative(y(\\rho, \\theta), \\rho))**2 + Abs(Derivative(x(\\rho, \\theta), \\rho)*Derivative(z(\\rho, \\theta), \\theta) - Derivative(x(\\rho, \\theta), \\theta)*Derivative(z(\\rho, \\theta), \\rho))**2 + Abs(Derivative(y(\\rho, \\theta), \\rho)*Derivative(z(\\rho, \\theta), \\theta) - Derivative(y(\\rho, \\theta), \\theta)*Derivative(z(\\rho, \\theta), \\rho))**2)*G(x(\\rho, \\theta), y(\\rho, \\theta), z(\\rho, \\theta))"
      ],
      "text/latex": [
       "$\\displaystyle \\sqrt{\\left|{\\frac{\\partial}{\\partial \\rho} x{\\left(\\rho,\\theta \\right)} \\frac{\\partial}{\\partial \\theta} y{\\left(\\rho,\\theta \\right)} - \\frac{\\partial}{\\partial \\theta} x{\\left(\\rho,\\theta \\right)} \\frac{\\partial}{\\partial \\rho} y{\\left(\\rho,\\theta \\right)}}\\right|^{2} + \\left|{\\frac{\\partial}{\\partial \\rho} x{\\left(\\rho,\\theta \\right)} \\frac{\\partial}{\\partial \\theta} z{\\left(\\rho,\\theta \\right)} - \\frac{\\partial}{\\partial \\theta} x{\\left(\\rho,\\theta \\right)} \\frac{\\partial}{\\partial \\rho} z{\\left(\\rho,\\theta \\right)}}\\right|^{2} + \\left|{\\frac{\\partial}{\\partial \\rho} y{\\left(\\rho,\\theta \\right)} \\frac{\\partial}{\\partial \\theta} z{\\left(\\rho,\\theta \\right)} - \\frac{\\partial}{\\partial \\theta} y{\\left(\\rho,\\theta \\right)} \\frac{\\partial}{\\partial \\rho} z{\\left(\\rho,\\theta \\right)}}\\right|^{2}} G{\\left(x{\\left(\\rho,\\theta \\right)},y{\\left(\\rho,\\theta \\right)},z{\\left(\\rho,\\theta \\right)} \\right)}$"
      ]
     },
     "metadata": {},
     "execution_count": 307
    }
   ],
   "metadata": {}
  },
  {
   "cell_type": "code",
   "execution_count": 308,
   "source": [
    "integrand1 = integrand.subs([(G, x**2+y**2),\r\n",
    "                             (x, rho*smp.cos(the)),\r\n",
    "                             (y, rho*smp.sin(the)),\r\n",
    "                             (z, rho**2)]).doit().simplify()\r\n",
    "integrand1"
   ],
   "outputs": [
    {
     "output_type": "execute_result",
     "data": {
      "text/plain": [
       "\\rho**2*sqrt(4*\\rho**2 + 1)*Abs(\\rho)"
      ],
      "text/latex": [
       "$\\displaystyle \\rho^{2} \\sqrt{4 \\rho^{2} + 1} \\left|{\\rho}\\right|$"
      ]
     },
     "metadata": {},
     "execution_count": 308
    }
   ],
   "metadata": {}
  },
  {
   "cell_type": "code",
   "execution_count": 309,
   "source": [
    "smp.integrate(integrand1, (the, 0, 2*smp.pi), (rho, 0, 1))"
   ],
   "outputs": [
    {
     "output_type": "execute_result",
     "data": {
      "text/plain": [
       "pi/60 + 5*sqrt(5)*pi/12"
      ],
      "text/latex": [
       "$\\displaystyle \\frac{\\pi}{60} + \\frac{5 \\sqrt{5} \\pi}{12}$"
      ]
     },
     "metadata": {},
     "execution_count": 309
    }
   ],
   "metadata": {}
  },
  {
   "cell_type": "markdown",
   "source": [
    "As before, if this integral can't be done symbolically, need to use scipy to convert to numerical function."
   ],
   "metadata": {}
  },
  {
   "cell_type": "markdown",
   "source": [
    "## Surface Integrals (Vector)"
   ],
   "metadata": {}
  },
  {
   "cell_type": "markdown",
   "source": [
    "The surface integral of a vector function $\\vec{G}(\\vec{r})$ is given by\n",
    "\n",
    "$$\\iint_S \\vec{G}(\\vec{r}(u,v)) \\cdot \\left(\\frac{d\\vec{r}}{du} \\times \\frac{d\\vec{r}}{dv}\\right) du dv$$\n",
    "\n",
    "This is also know as the flux of the vector field $\\vec{G}$ through the surface"
   ],
   "metadata": {}
  },
  {
   "cell_type": "markdown",
   "source": [
    "2D parabola: $\\vec{r}(x,y) = \\left<x, y, x^2+y^2 \\right>$ and thus $\\vec{r}(\\rho, \\theta) = \\left<\\rho\\cos\\theta, \\rho\\sin\\theta, \\rho^2\\right>$. Suppose a vector field is given by $\\vec{G}(x,y,z)=\\left<y^2, z, 0 \\right>$. Find the flux of $\\vec{G}$ through half the surface for $0<\\rho<1$ and $0<\\theta<\\pi$"
   ],
   "metadata": {}
  },
  {
   "cell_type": "code",
   "execution_count": 310,
   "source": [
    "rho, the = smp.symbols(r'\\rho \\theta',pos=True, real=True)\r\n",
    "x, y, z, G1, G2, G3 = smp.symbols('x y z G_1, G_2, G_3', cls=smp.Function, real=True)\r\n",
    "x = x(rho, the)\r\n",
    "y = y(rho, the)\r\n",
    "z = z(rho, the)\r\n",
    "G1 = G1(x,y,z)\r\n",
    "G2 = G2(x,y,z)\r\n",
    "G3 = G3(x,y,z)\r\n",
    "r = smp.Matrix([x, y, z])\r\n",
    "G = smp.Matrix([G1, G2, G3])"
   ],
   "outputs": [],
   "metadata": {}
  },
  {
   "cell_type": "code",
   "execution_count": 311,
   "source": [
    "integrand = G.dot(smp.diff(r,rho).cross(smp.diff(r,the)))\r\n",
    "integrand"
   ],
   "outputs": [
    {
     "output_type": "execute_result",
     "data": {
      "text/plain": [
       "(Derivative(x(\\rho, \\theta), \\rho)*Derivative(y(\\rho, \\theta), \\theta) - Derivative(x(\\rho, \\theta), \\theta)*Derivative(y(\\rho, \\theta), \\rho))*G_3(x(\\rho, \\theta), y(\\rho, \\theta), z(\\rho, \\theta)) + (-Derivative(x(\\rho, \\theta), \\rho)*Derivative(z(\\rho, \\theta), \\theta) + Derivative(x(\\rho, \\theta), \\theta)*Derivative(z(\\rho, \\theta), \\rho))*G_2(x(\\rho, \\theta), y(\\rho, \\theta), z(\\rho, \\theta)) + (Derivative(y(\\rho, \\theta), \\rho)*Derivative(z(\\rho, \\theta), \\theta) - Derivative(y(\\rho, \\theta), \\theta)*Derivative(z(\\rho, \\theta), \\rho))*G_1(x(\\rho, \\theta), y(\\rho, \\theta), z(\\rho, \\theta))"
      ],
      "text/latex": [
       "$\\displaystyle \\left(\\frac{\\partial}{\\partial \\rho} x{\\left(\\rho,\\theta \\right)} \\frac{\\partial}{\\partial \\theta} y{\\left(\\rho,\\theta \\right)} - \\frac{\\partial}{\\partial \\theta} x{\\left(\\rho,\\theta \\right)} \\frac{\\partial}{\\partial \\rho} y{\\left(\\rho,\\theta \\right)}\\right) \\operatorname{G_{3}}{\\left(x{\\left(\\rho,\\theta \\right)},y{\\left(\\rho,\\theta \\right)},z{\\left(\\rho,\\theta \\right)} \\right)} + \\left(- \\frac{\\partial}{\\partial \\rho} x{\\left(\\rho,\\theta \\right)} \\frac{\\partial}{\\partial \\theta} z{\\left(\\rho,\\theta \\right)} + \\frac{\\partial}{\\partial \\theta} x{\\left(\\rho,\\theta \\right)} \\frac{\\partial}{\\partial \\rho} z{\\left(\\rho,\\theta \\right)}\\right) \\operatorname{G_{2}}{\\left(x{\\left(\\rho,\\theta \\right)},y{\\left(\\rho,\\theta \\right)},z{\\left(\\rho,\\theta \\right)} \\right)} + \\left(\\frac{\\partial}{\\partial \\rho} y{\\left(\\rho,\\theta \\right)} \\frac{\\partial}{\\partial \\theta} z{\\left(\\rho,\\theta \\right)} - \\frac{\\partial}{\\partial \\theta} y{\\left(\\rho,\\theta \\right)} \\frac{\\partial}{\\partial \\rho} z{\\left(\\rho,\\theta \\right)}\\right) \\operatorname{G_{1}}{\\left(x{\\left(\\rho,\\theta \\right)},y{\\left(\\rho,\\theta \\right)},z{\\left(\\rho,\\theta \\right)} \\right)}$"
      ]
     },
     "metadata": {},
     "execution_count": 311
    }
   ],
   "metadata": {}
  },
  {
   "cell_type": "code",
   "execution_count": 312,
   "source": [
    "integrand1 = integrand.subs([(G1, y**2),\r\n",
    "                             (G2, z),\r\n",
    "                             (G3, 0),\r\n",
    "                             (x, rho*smp.cos(the)),\r\n",
    "                             (y, rho*smp.sin(the)),\r\n",
    "                             (z, rho**2)]).doit().simplify()\r\n",
    "integrand1"
   ],
   "outputs": [
    {
     "output_type": "execute_result",
     "data": {
      "text/plain": [
       "-2*\\rho**4*(sin(2*\\theta)/2 + 1)*sin(\\theta)"
      ],
      "text/latex": [
       "$\\displaystyle - 2 \\rho^{4} \\left(\\frac{\\sin{\\left(2 \\theta \\right)}}{2} + 1\\right) \\sin{\\left(\\theta \\right)}$"
      ]
     },
     "metadata": {},
     "execution_count": 312
    }
   ],
   "metadata": {}
  },
  {
   "cell_type": "code",
   "execution_count": 313,
   "source": [
    "smp.integrate(integrand1, (the, 0, smp.pi), (rho, 0, 1))"
   ],
   "outputs": [
    {
     "output_type": "execute_result",
     "data": {
      "text/plain": [
       "-4/5"
      ],
      "text/latex": [
       "$\\displaystyle - \\frac{4}{5}$"
      ]
     },
     "metadata": {},
     "execution_count": 313
    }
   ],
   "metadata": {}
  },
  {
   "cell_type": "markdown",
   "source": [
    "Again, if this could not be done symbolically, one would need to convert the integrand into a numpy function and integrate using scipys `quad` function, like in previous examples."
   ],
   "metadata": {}
  },
  {
   "cell_type": "markdown",
   "source": [
    "## Explicit Sympy Functionality"
   ],
   "metadata": {}
  },
  {
   "cell_type": "code",
   "execution_count": 314,
   "source": [
    "from sympy.vector import ParametricRegion"
   ],
   "outputs": [],
   "metadata": {}
  },
  {
   "cell_type": "markdown",
   "source": [
    "Find the mass of a cylinder with radius $a$ and height $h$ centered at origin with density $\\rho(x,y)=x^2+y^2$"
   ],
   "metadata": {}
  },
  {
   "cell_type": "code",
   "execution_count": 315,
   "source": [
    "a, h, r, the, z = smp.symbols(r'a h r \\theta z', positive=True)\r\n",
    "cylinder = ParametricRegion((r*smp.cos(the), r*smp.sin(the), z),\r\n",
    "                    (the, 0, 2*smp.pi), (z, 0, h), (r, 0, a))\r\n",
    "vector_integrate(C.x**2 + C.y**2, cylinder)"
   ],
   "outputs": [
    {
     "output_type": "execute_result",
     "data": {
      "text/plain": [
       "pi*a**4*h/2"
      ],
      "text/latex": [
       "$\\displaystyle \\frac{\\pi a^{4} h}{2}$"
      ]
     },
     "metadata": {},
     "execution_count": 315
    }
   ],
   "metadata": {}
  },
  {
   "cell_type": "markdown",
   "source": [
    "Not necessarily a fan of this functionailty because there is no clear way of converting it into an numerical function if it cannot be computed symbolically. For more see\n",
    "\n",
    "https://docs.sympy.org/latest/modules/vector/vector_integration.html"
   ],
   "metadata": {}
  }
 ],
 "metadata": {
  "kernelspec": {
   "name": "python3",
   "display_name": "Python 3.9.6 64-bit"
  },
  "language_info": {
   "codemirror_mode": {
    "name": "ipython",
    "version": 3
   },
   "file_extension": ".py",
   "mimetype": "text/x-python",
   "name": "python",
   "nbconvert_exporter": "python",
   "pygments_lexer": "ipython3",
   "version": "3.9.6"
  },
  "interpreter": {
   "hash": "cb094e0126242855b1c01b61ccad12b7d1bc8ca05f62693fa1e5033a698ad954"
  }
 },
 "nbformat": 4,
 "nbformat_minor": 5
}