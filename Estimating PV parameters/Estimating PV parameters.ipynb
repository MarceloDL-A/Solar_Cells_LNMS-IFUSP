{
 "cells": [
  {
   "cell_type": "markdown",
   "metadata": {},
   "source": [
    "[Estimating PV parameters](https://pvlib-python.readthedocs.io/en/stable/api.html#estimating-pv-model-parameters)"
   ]
  },
  {
   "cell_type": "markdown",
   "metadata": {},
   "source": [
    "[Functions for fitting the single diode equation](https://pvlib-python.readthedocs.io/en/stable/generated/pvlib.ivtools.sde.fit_sandia_simple.html#pvlib.ivtools.sde.fit_sandia_simple), given I and V."
   ]
  },
  {
   "cell_type": "code",
   "execution_count": 137,
   "metadata": {},
   "outputs": [],
   "source": [
    "import pvlib\n",
    "import numpy as np"
   ]
  },
  {
   "cell_type": "code",
   "execution_count": 138,
   "metadata": {},
   "outputs": [],
   "source": [
    "import numpy as np\n",
    "import matplotlib\n",
    "import matplotlib.pyplot as plt\n",
    "from scipy.optimize import curve_fit"
   ]
  },
  {
   "cell_type": "code",
   "execution_count": 139,
   "metadata": {},
   "outputs": [],
   "source": [
    "import matplotlib.pyplot as plt\n",
    "import numpy as np\n",
    "import pandas as pd\n",
    "from scipy.optimize import curve_fit\n",
    "\n",
    "import pandas as pd\n",
    "import numpy as np\n",
    "import scipy.stats\n",
    "import seaborn as sns\n",
    "import matplotlib.pyplot as plt\n",
    "from matplotlib.pyplot import figure\n",
    "import statsmodels.api as sm\n",
    "from sklearn.model_selection import train_test_split\n",
    "from sklearn.linear_model import LinearRegression\n",
    "from sklearn.metrics import r2_score\n",
    "import seaborn as sns\n",
    "%matplotlib inline\n",
    "\n",
    "#CS Iluminada\n",
    "def func(I, V, I_L, I_0, n, R_S, R_sh):\n",
    "    # Constante de Boltzmann\n",
    "    k = 1.38064852*10**(-23) # [J.K^-1]\n",
    "    T = 300 # [K]\n",
    "    q = 1.60217662*10**(-19) # [C], carga do elétron\n",
    "    I = func(I, V, I_L, I_0, n, R_S, R_sh)\n",
    "    return I_L-I_0 * (np.exp(-q * (V + I*R_S)/(n*k*T)) - 1) - (V + I*R_S)/R_sh"
   ]
  },
  {
   "cell_type": "markdown",
   "metadata": {},
   "source": [
    "# Define the data to be fit with some noise:\n",
    "\n"
   ]
  },
  {
   "cell_type": "code",
   "execution_count": 140,
   "metadata": {},
   "outputs": [
    {
     "data": {
      "text/html": [
       "<div>\n",
       "<style scoped>\n",
       "    .dataframe tbody tr th:only-of-type {\n",
       "        vertical-align: middle;\n",
       "    }\n",
       "\n",
       "    .dataframe tbody tr th {\n",
       "        vertical-align: top;\n",
       "    }\n",
       "\n",
       "    .dataframe thead th {\n",
       "        text-align: right;\n",
       "    }\n",
       "</style>\n",
       "<table border=\"1\" class=\"dataframe\">\n",
       "  <thead>\n",
       "    <tr style=\"text-align: right;\">\n",
       "      <th></th>\n",
       "      <th>Run Id Device</th>\n",
       "      <th>L4C5 3975f2-cap</th>\n",
       "      <th>Unnamed: 2</th>\n",
       "      <th>Run Id.1 Device</th>\n",
       "      <th>L5C3 3975f5-cap</th>\n",
       "      <th>Unnamed: 5</th>\n",
       "      <th>Run Id.2 Device</th>\n",
       "      <th>L6C3 3975f8-cap</th>\n",
       "      <th>Unnamed: 8</th>\n",
       "      <th>Run Id.3 Device</th>\n",
       "      <th>Unnamed: 10 Ref GaAs</th>\n",
       "      <th>Unnamed: 11</th>\n",
       "      <th>Unnamed: 12</th>\n",
       "    </tr>\n",
       "  </thead>\n",
       "  <tbody>\n",
       "    <tr>\n",
       "      <th>11</th>\n",
       "      <td>-0.09994364</td>\n",
       "      <td>0.000883137817874162</td>\n",
       "      <td>-8.82640081400008E-05</td>\n",
       "      <td>-0.09993839</td>\n",
       "      <td>0.00084598546774434</td>\n",
       "      <td>-8.45464256097663E-05</td>\n",
       "      <td>-0.0999403</td>\n",
       "      <td>0.000827642425591886</td>\n",
       "      <td>-8.27148323063808E-05</td>\n",
       "      <td>-0.07651258</td>\n",
       "      <td>0.102581422159825</td>\n",
       "      <td>-0.00784876926951738</td>\n",
       "      <td></td>\n",
       "    </tr>\n",
       "    <tr>\n",
       "      <th>12</th>\n",
       "      <td>-0.09248257</td>\n",
       "      <td>0.000882819817874162</td>\n",
       "      <td>-8.16454456039345E-05</td>\n",
       "      <td>-0.09248328</td>\n",
       "      <td>0.00084580576774434</td>\n",
       "      <td>-7.82228916439148E-05</td>\n",
       "      <td>-0.09258389</td>\n",
       "      <td>0.000827923225591886</td>\n",
       "      <td>-7.66523528466444E-05</td>\n",
       "      <td>-0.07181549</td>\n",
       "      <td>0.102616722159825</td>\n",
       "      <td>-0.00736947018410168</td>\n",
       "      <td></td>\n",
       "    </tr>\n",
       "    <tr>\n",
       "      <th>13</th>\n",
       "      <td>-0.08506594</td>\n",
       "      <td>0.000883026857874162</td>\n",
       "      <td>-7.5115509710312E-05</td>\n",
       "      <td>-0.08506589</td>\n",
       "      <td>0.00084642798774434</td>\n",
       "      <td>-7.20021500983814E-05</td>\n",
       "      <td>-0.085209276</td>\n",
       "      <td>0.000827439205591886</td>\n",
       "      <td>-7.05054956424998E-05</td>\n",
       "      <td>-0.067110348</td>\n",
       "      <td>0.102615362159825</td>\n",
       "      <td>-0.00688655266469188</td>\n",
       "      <td></td>\n",
       "    </tr>\n",
       "    <tr>\n",
       "      <th>14</th>\n",
       "      <td>-0.077621034</td>\n",
       "      <td>0.000883143137874162</td>\n",
       "      <td>-6.8550483531797E-05</td>\n",
       "      <td>-0.077622748</td>\n",
       "      <td>0.00084635758774434</td>\n",
       "      <td>-6.56966017513668E-05</td>\n",
       "      <td>-0.077839996</td>\n",
       "      <td>0.000827472025591886</td>\n",
       "      <td>-6.44104191621843E-05</td>\n",
       "      <td>-0.062366532</td>\n",
       "      <td>0.102626622159825</td>\n",
       "      <td>-0.00640046651498263</td>\n",
       "      <td></td>\n",
       "    </tr>\n",
       "    <tr>\n",
       "      <th>15</th>\n",
       "      <td>-0.070190766</td>\n",
       "      <td>0.000883406917874162</td>\n",
       "      <td>-6.20070082552865E-05</td>\n",
       "      <td>-0.070193292</td>\n",
       "      <td>0.00084613774774434</td>\n",
       "      <td>-5.93931939996408E-05</td>\n",
       "      <td>-0.070471956</td>\n",
       "      <td>0.000827491765591886</td>\n",
       "      <td>-5.83149632951537E-05</td>\n",
       "      <td>-0.05759406</td>\n",
       "      <td>0.102622242159825</td>\n",
       "      <td>-0.00591043157228748</td>\n",
       "      <td></td>\n",
       "    </tr>\n",
       "    <tr>\n",
       "      <th>...</th>\n",
       "      <td>...</td>\n",
       "      <td>...</td>\n",
       "      <td>...</td>\n",
       "      <td>...</td>\n",
       "      <td>...</td>\n",
       "      <td>...</td>\n",
       "      <td>...</td>\n",
       "      <td>...</td>\n",
       "      <td>...</td>\n",
       "      <td>...</td>\n",
       "      <td>...</td>\n",
       "      <td>...</td>\n",
       "      <td>...</td>\n",
       "    </tr>\n",
       "    <tr>\n",
       "      <th>256</th>\n",
       "      <td></td>\n",
       "      <td></td>\n",
       "      <td></td>\n",
       "      <td></td>\n",
       "      <td></td>\n",
       "      <td></td>\n",
       "      <td></td>\n",
       "      <td></td>\n",
       "      <td></td>\n",
       "      <td>1.052203</td>\n",
       "      <td>-0.0985679298401751</td>\n",
       "      <td>-0.103713471481622</td>\n",
       "      <td></td>\n",
       "    </tr>\n",
       "    <tr>\n",
       "      <th>257</th>\n",
       "      <td></td>\n",
       "      <td></td>\n",
       "      <td></td>\n",
       "      <td></td>\n",
       "      <td></td>\n",
       "      <td></td>\n",
       "      <td></td>\n",
       "      <td></td>\n",
       "      <td></td>\n",
       "      <td>1.0569024</td>\n",
       "      <td>-0.115181317840175</td>\n",
       "      <td>-0.121735411260444</td>\n",
       "      <td></td>\n",
       "    </tr>\n",
       "    <tr>\n",
       "      <th>258</th>\n",
       "      <td></td>\n",
       "      <td></td>\n",
       "      <td></td>\n",
       "      <td></td>\n",
       "      <td></td>\n",
       "      <td></td>\n",
       "      <td></td>\n",
       "      <td></td>\n",
       "      <td></td>\n",
       "      <td>1.0616026</td>\n",
       "      <td>-0.132641001840175</td>\n",
       "      <td>-0.140812032420135</td>\n",
       "      <td></td>\n",
       "    </tr>\n",
       "    <tr>\n",
       "      <th>259</th>\n",
       "      <td></td>\n",
       "      <td></td>\n",
       "      <td></td>\n",
       "      <td></td>\n",
       "      <td></td>\n",
       "      <td></td>\n",
       "      <td></td>\n",
       "      <td></td>\n",
       "      <td></td>\n",
       "      <td>1.066289</td>\n",
       "      <td>-0.150039277840175</td>\n",
       "      <td>-0.159985231528922</td>\n",
       "      <td></td>\n",
       "    </tr>\n",
       "    <tr>\n",
       "      <th>260</th>\n",
       "      <td></td>\n",
       "      <td></td>\n",
       "      <td></td>\n",
       "      <td></td>\n",
       "      <td></td>\n",
       "      <td></td>\n",
       "      <td></td>\n",
       "      <td></td>\n",
       "      <td></td>\n",
       "      <td>1.07101</td>\n",
       "      <td>-0.169240577840175</td>\n",
       "      <td>-0.181258351272606</td>\n",
       "      <td></td>\n",
       "    </tr>\n",
       "  </tbody>\n",
       "</table>\n",
       "<p>250 rows × 13 columns</p>\n",
       "</div>"
      ],
      "text/plain": [
       "    Run Id Device       L4C5 3975f2-cap            Unnamed: 2   \\\n",
       "11    -0.09994364  0.000883137817874162  -8.82640081400008E-05   \n",
       "12    -0.09248257  0.000882819817874162  -8.16454456039345E-05   \n",
       "13    -0.08506594  0.000883026857874162   -7.5115509710312E-05   \n",
       "14   -0.077621034  0.000883143137874162   -6.8550483531797E-05   \n",
       "15   -0.070190766  0.000883406917874162  -6.20070082552865E-05   \n",
       "..            ...                   ...                    ...   \n",
       "256                                                              \n",
       "257                                                              \n",
       "258                                                              \n",
       "259                                                              \n",
       "260                                                              \n",
       "\n",
       "    Run Id.1 Device      L5C3 3975f5-cap            Unnamed: 5   \\\n",
       "11      -0.09993839  0.00084598546774434  -8.45464256097663E-05   \n",
       "12      -0.09248328  0.00084580576774434  -7.82228916439148E-05   \n",
       "13      -0.08506589  0.00084642798774434  -7.20021500983814E-05   \n",
       "14     -0.077622748  0.00084635758774434  -6.56966017513668E-05   \n",
       "15     -0.070193292  0.00084613774774434  -5.93931939996408E-05   \n",
       "..              ...                  ...                    ...   \n",
       "256                                                               \n",
       "257                                                               \n",
       "258                                                               \n",
       "259                                                               \n",
       "260                                                               \n",
       "\n",
       "    Run Id.2 Device       L6C3 3975f8-cap            Unnamed: 8   \\\n",
       "11       -0.0999403  0.000827642425591886  -8.27148323063808E-05   \n",
       "12      -0.09258389  0.000827923225591886  -7.66523528466444E-05   \n",
       "13     -0.085209276  0.000827439205591886  -7.05054956424998E-05   \n",
       "14     -0.077839996  0.000827472025591886  -6.44104191621843E-05   \n",
       "15     -0.070471956  0.000827491765591886  -5.83149632951537E-05   \n",
       "..              ...                   ...                    ...   \n",
       "256                                                                \n",
       "257                                                                \n",
       "258                                                                \n",
       "259                                                                \n",
       "260                                                                \n",
       "\n",
       "    Run Id.3 Device Unnamed: 10 Ref GaAs          Unnamed: 11  Unnamed: 12   \n",
       "11      -0.07651258    0.102581422159825  -0.00784876926951738               \n",
       "12      -0.07181549    0.102616722159825  -0.00736947018410168               \n",
       "13     -0.067110348    0.102615362159825  -0.00688655266469188               \n",
       "14     -0.062366532    0.102626622159825  -0.00640046651498263               \n",
       "15      -0.05759406    0.102622242159825  -0.00591043157228748               \n",
       "..              ...                  ...                   ...          ...  \n",
       "256        1.052203  -0.0985679298401751    -0.103713471481622               \n",
       "257       1.0569024   -0.115181317840175    -0.121735411260444               \n",
       "258       1.0616026   -0.132641001840175    -0.140812032420135               \n",
       "259        1.066289   -0.150039277840175    -0.159985231528922               \n",
       "260         1.07101   -0.169240577840175    -0.181258351272606               \n",
       "\n",
       "[250 rows x 13 columns]"
      ]
     },
     "execution_count": 140,
     "metadata": {},
     "output_type": "execute_result"
    }
   ],
   "source": [
    "df_fit = pd.read_csv('Curves without parameters 3975.txt', sep='\\t', header = 0)\n",
    "df_fit = df_fit.fillna('') #Preche espaços nulos com uma string vazia\n",
    "df_fit.columns = df_fit.columns + \" \" + np.array(df_fit.iloc[0, :])#.astype(str) # Forma o nome da colun utilizando as duas primeiras linas do data frame\n",
    "df_fit = df_fit.iloc[11:, :]\n",
    "df_fit"
   ]
  },
  {
   "cell_type": "code",
   "execution_count": 141,
   "metadata": {},
   "outputs": [
    {
     "data": {
      "text/plain": [
       "Index(['Run Id Device', 'L4C5 3975f2-cap', 'Unnamed: 2 ', 'Run Id.1 Device',\n",
       "       'L5C3 3975f5-cap', 'Unnamed: 5 ', 'Run Id.2 Device', 'L6C3 3975f8-cap',\n",
       "       'Unnamed: 8 ', 'Run Id.3 Device', 'Unnamed: 10 Ref GaAs',\n",
       "       'Unnamed: 11 ', 'Unnamed: 12 '],\n",
       "      dtype='object')"
      ]
     },
     "execution_count": 141,
     "metadata": {},
     "output_type": "execute_result"
    }
   ],
   "source": [
    "df_fit.columns"
   ]
  },
  {
   "cell_type": "code",
   "execution_count": 142,
   "metadata": {},
   "outputs": [
    {
     "data": {
      "text/plain": [
       "11      -0.09994364\n",
       "12      -0.09248257\n",
       "13      -0.08506594\n",
       "14     -0.077621034\n",
       "15     -0.070190766\n",
       "           ...     \n",
       "256                \n",
       "257                \n",
       "258                \n",
       "259                \n",
       "260                \n",
       "Name: Run Id Device, Length: 250, dtype: object"
      ]
     },
     "execution_count": 142,
     "metadata": {},
     "output_type": "execute_result"
    }
   ],
   "source": [
    "dfV = df_fit[df_fit.columns[0]]\n",
    "dfV"
   ]
  },
  {
   "cell_type": "code",
   "execution_count": 143,
   "metadata": {},
   "outputs": [
    {
     "data": {
      "text/plain": [
       "11     0.000883137817874162\n",
       "12     0.000882819817874162\n",
       "13     0.000883026857874162\n",
       "14     0.000883143137874162\n",
       "15     0.000883406917874162\n",
       "               ...         \n",
       "256                        \n",
       "257                        \n",
       "258                        \n",
       "259                        \n",
       "260                        \n",
       "Name: L4C5 3975f2-cap, Length: 250, dtype: object"
      ]
     },
     "execution_count": 143,
     "metadata": {},
     "output_type": "execute_result"
    }
   ],
   "source": [
    "dfI = df_fit[df_fit.columns[1]]\n",
    "dfI"
   ]
  },
  {
   "cell_type": "code",
   "execution_count": 144,
   "metadata": {},
   "outputs": [
    {
     "data": {
      "text/plain": [
       "array([-0.09994364, -0.09248257, -0.08506594, -0.07762103, -0.07019077])"
      ]
     },
     "execution_count": 144,
     "metadata": {},
     "output_type": "execute_result"
    }
   ],
   "source": [
    "# Tranforma uma coluna do data frame em uma array\n",
    "def to_array(df):\n",
    "    df_lst = []\n",
    "    df_array = df\n",
    "    for i in range(len(df_array)):\n",
    "        if df_array[i+11] == '':\n",
    "            df_lst += [0]\n",
    "        else:\n",
    "            df_lst += [float(df_array[i+11])]\n",
    "    df_array = np.array(df_lst)\n",
    "    return df_array\n",
    "to_array(dfV)[0:5]"
   ]
  },
  {
   "cell_type": "code",
   "execution_count": 145,
   "metadata": {},
   "outputs": [
    {
     "name": "stdout",
     "output_type": "stream",
     "text": [
      "250\n"
     ]
    },
    {
     "data": {
      "text/plain": [
       "array([-0.09994364, -0.09248257, -0.08506594, -0.07762103, -0.07019077,\n",
       "       -0.06274629, -0.05530124, -0.04786306, -0.04043145, -0.03299265,\n",
       "       -0.02555404, -0.0181222 , -0.01072164, -0.00331426,  0.00410004,\n",
       "        0.01150026,  0.01890683,  0.02635117,  0.03378182,  0.04121223,\n",
       "        0.04864764,  0.05608378,  0.06351318,  0.07094922,  0.07838592,\n",
       "        0.08583025,  0.09326103,  0.10069827,  0.10814222,  0.1155722 ,\n",
       "        0.12300294,  0.1304471 ,  0.13789096,  0.14532118,  0.1527648 ,\n",
       "        0.16020852,  0.1676519 ,  0.17508106,  0.18252416,  0.18996578,\n",
       "        0.19739348,  0.20482136,  0.21225712,  0.2196919 ,  0.22712092,\n",
       "        0.2345569 ,  0.2419925 ,  0.24943478,  0.2568641 ,  0.26430062,\n",
       "        0.2717443 ,  0.2791742 ,  0.28660484,  0.29404856,  0.30149252,\n",
       "        0.30892254,  0.31636624,  0.32380924,  0.33123822,  0.3386671 ,\n",
       "        0.34610986,  0.35355262,  0.36098188,  0.36842564,  0.37586278,\n",
       "        0.38329958,  0.39072956,  0.39816636,  0.4056042 ,  0.41304224,\n",
       "        0.42047318,  0.42791084,  0.43535494,  0.44278446,  0.4502202 ,\n",
       "        0.45766348,  0.46510654,  0.472535  ,  0.4799768 ,  0.48741832,\n",
       "        0.49484644,  0.50227422,  0.50971718,  0.51715998,  0.52458972,\n",
       "        0.53203248,  0.53946952,  0.5469065 ,  0.5543374 ,  0.5617745 ,\n",
       "        0.56921224,  0.57664928,  0.58407932,  0.59151548,  0.59895962,\n",
       "        0.60638946,  0.61382508,  0.6212678 ,  0.6286973 ,  0.63612608,\n",
       "        0.64356848,  0.65101198,  0.65844208,  0.66588528,  0.67332904,\n",
       "        0.68077294,  0.6882037 ,  0.69564752,  0.7030848 ,  0.71051468,\n",
       "        0.7179445 ,  0.72538072,  0.73281646,  0.74025246,  0.74768832,\n",
       "        0.75512354,  0.76256546,  0.76999432,  0.77742976,  0.7848715 ,\n",
       "        0.79230084,  0.79973002,  0.80717284,  0.81461564,  0.8220463 ,\n",
       "        0.82949026,  0.83693404,  0.844365  ,  0.85179598,  0.85923992,\n",
       "        0.86667718,  0.87410816,  0.8815517 ,  0.88898776,  0.89642434,\n",
       "        0.90386082,  0.91129762,  0.91873532,  0.9261739 ,  0.93360562,\n",
       "        0.94104442,  0.94849002,  0.95592218,  0.96336266,  0.97080984,\n",
       "        0.97825792,  0.9856922 ,  0.99182924,  1.000559  ,  1.001467  ,\n",
       "        0.        ,  0.        ,  0.        ,  0.        ,  0.        ,\n",
       "        0.        ,  0.        ,  0.        ,  0.        ,  0.        ,\n",
       "        0.        ,  0.        ,  0.        ,  0.        ,  0.        ,\n",
       "        0.        ,  0.        ,  0.        ,  0.        ,  0.        ,\n",
       "        0.        ,  0.        ,  0.        ,  0.        ,  0.        ,\n",
       "        0.        ,  0.        ,  0.        ,  0.        ,  0.        ,\n",
       "        0.        ,  0.        ,  0.        ,  0.        ,  0.        ,\n",
       "        0.        ,  0.        ,  0.        ,  0.        ,  0.        ,\n",
       "        0.        ,  0.        ,  0.        ,  0.        ,  0.        ,\n",
       "        0.        ,  0.        ,  0.        ,  0.        ,  0.        ,\n",
       "        0.        ,  0.        ,  0.        ,  0.        ,  0.        ,\n",
       "        0.        ,  0.        ,  0.        ,  0.        ,  0.        ,\n",
       "        0.        ,  0.        ,  0.        ,  0.        ,  0.        ,\n",
       "        0.        ,  0.        ,  0.        ,  0.        ,  0.        ,\n",
       "        0.        ,  0.        ,  0.        ,  0.        ,  0.        ,\n",
       "        0.        ,  0.        ,  0.        ,  0.        ,  0.        ,\n",
       "        0.        ,  0.        ,  0.        ,  0.        ,  0.        ,\n",
       "        0.        ,  0.        ,  0.        ,  0.        ,  0.        ,\n",
       "        0.        ,  0.        ,  0.        ,  0.        ,  0.        ,\n",
       "        0.        ,  0.        ,  0.        ,  0.        ,  0.        ])"
      ]
     },
     "execution_count": 145,
     "metadata": {},
     "output_type": "execute_result"
    }
   ],
   "source": [
    "df_V = to_array(dfV)\n",
    "print(len(df_V))\n",
    "df_V"
   ]
  },
  {
   "cell_type": "code",
   "execution_count": 146,
   "metadata": {},
   "outputs": [
    {
     "name": "stdout",
     "output_type": "stream",
     "text": [
      "250\n"
     ]
    },
    {
     "data": {
      "text/plain": [
       "array([ 8.83137818e-04,  8.82819818e-04,  8.83026858e-04,  8.83143138e-04,\n",
       "        8.83406918e-04,  8.83692798e-04,  8.83651678e-04,  8.83482398e-04,\n",
       "        8.83353218e-04,  8.83063498e-04,  8.82787538e-04,  8.82705118e-04,\n",
       "        8.82698278e-04,  8.82518438e-04,  8.82168678e-04,  8.82149638e-04,\n",
       "        8.82254458e-04,  8.82215298e-04,  8.82206038e-04,  8.82311458e-04,\n",
       "        8.82268618e-04,  8.82258378e-04,  8.82275238e-04,  8.82292518e-04,\n",
       "        8.82396558e-04,  8.82461198e-04,  8.82218638e-04,  8.82053738e-04,\n",
       "        8.81815458e-04,  8.81512898e-04,  8.81415338e-04,  8.81253198e-04,\n",
       "        8.81155638e-04,  8.81173098e-04,  8.81211618e-04,  8.81150018e-04,\n",
       "        8.81228278e-04,  8.81257858e-04,  8.81354438e-04,  8.81582478e-04,\n",
       "        8.81635518e-04,  8.81615318e-04,  8.81392178e-04,  8.81294438e-04,\n",
       "        8.81305758e-04,  8.81370058e-04,  8.81451818e-04,  8.81649018e-04,\n",
       "        8.81770958e-04,  8.81717398e-04,  8.81613238e-04,  8.81383638e-04,\n",
       "        8.81304898e-04,  8.81178518e-04,  8.81063638e-04,  8.80942598e-04,\n",
       "        8.81084658e-04,  8.81111338e-04,  8.81066138e-04,  8.81200658e-04,\n",
       "        8.81256118e-04,  8.81326438e-04,  8.81335938e-04,  8.81311158e-04,\n",
       "        8.81096918e-04,  8.80814118e-04,  8.80400798e-04,  8.80066538e-04,\n",
       "        8.79987518e-04,  8.80078978e-04,  8.80344638e-04,  8.80507518e-04,\n",
       "        8.80667438e-04,  8.80594098e-04,  8.80445358e-04,  8.80183298e-04,\n",
       "        8.80013858e-04,  8.79937478e-04,  8.79900918e-04,  8.79810998e-04,\n",
       "        8.79940358e-04,  8.79926478e-04,  8.79917678e-04,  8.79919438e-04,\n",
       "        8.79884978e-04,  8.79683438e-04,  8.79718178e-04,  8.79601578e-04,\n",
       "        8.79433618e-04,  8.79208898e-04,  8.79271798e-04,  8.79260478e-04,\n",
       "        8.79394818e-04,  8.79489398e-04,  8.79714178e-04,  8.79561178e-04,\n",
       "        8.79358758e-04,  8.79107498e-04,  8.78764358e-04,  8.78465478e-04,\n",
       "        8.78254098e-04,  8.78010838e-04,  8.77681378e-04,  8.77357278e-04,\n",
       "        8.76867138e-04,  8.76290698e-04,  8.75688458e-04,  8.74986698e-04,\n",
       "        8.74362378e-04,  8.73460578e-04,  8.72462198e-04,  8.71196338e-04,\n",
       "        8.69870478e-04,  8.68273678e-04,  8.66512678e-04,  8.64469598e-04,\n",
       "        8.62147818e-04,  8.59354958e-04,  8.56064138e-04,  8.52208098e-04,\n",
       "        8.47509478e-04,  8.41906878e-04,  8.35282058e-04,  8.27432998e-04,\n",
       "        8.18269378e-04,  8.07780738e-04,  7.95624738e-04,  7.81584078e-04,\n",
       "        7.65274958e-04,  7.46268198e-04,  7.24038138e-04,  6.98309378e-04,\n",
       "        6.68275258e-04,  6.33580898e-04,  5.93563718e-04,  5.47596878e-04,\n",
       "        4.94784758e-04,  4.34336578e-04,  3.65357458e-04,  2.86914418e-04,\n",
       "        1.98097290e-04,  9.73094899e-05, -1.61265901e-05, -1.43914470e-04,\n",
       "       -2.87352890e-04, -4.48064842e-04, -6.26395042e-04, -7.82062542e-04,\n",
       "       -1.02056628e-03, -1.04827428e-03,  0.00000000e+00,  0.00000000e+00,\n",
       "        0.00000000e+00,  0.00000000e+00,  0.00000000e+00,  0.00000000e+00,\n",
       "        0.00000000e+00,  0.00000000e+00,  0.00000000e+00,  0.00000000e+00,\n",
       "        0.00000000e+00,  0.00000000e+00,  0.00000000e+00,  0.00000000e+00,\n",
       "        0.00000000e+00,  0.00000000e+00,  0.00000000e+00,  0.00000000e+00,\n",
       "        0.00000000e+00,  0.00000000e+00,  0.00000000e+00,  0.00000000e+00,\n",
       "        0.00000000e+00,  0.00000000e+00,  0.00000000e+00,  0.00000000e+00,\n",
       "        0.00000000e+00,  0.00000000e+00,  0.00000000e+00,  0.00000000e+00,\n",
       "        0.00000000e+00,  0.00000000e+00,  0.00000000e+00,  0.00000000e+00,\n",
       "        0.00000000e+00,  0.00000000e+00,  0.00000000e+00,  0.00000000e+00,\n",
       "        0.00000000e+00,  0.00000000e+00,  0.00000000e+00,  0.00000000e+00,\n",
       "        0.00000000e+00,  0.00000000e+00,  0.00000000e+00,  0.00000000e+00,\n",
       "        0.00000000e+00,  0.00000000e+00,  0.00000000e+00,  0.00000000e+00,\n",
       "        0.00000000e+00,  0.00000000e+00,  0.00000000e+00,  0.00000000e+00,\n",
       "        0.00000000e+00,  0.00000000e+00,  0.00000000e+00,  0.00000000e+00,\n",
       "        0.00000000e+00,  0.00000000e+00,  0.00000000e+00,  0.00000000e+00,\n",
       "        0.00000000e+00,  0.00000000e+00,  0.00000000e+00,  0.00000000e+00,\n",
       "        0.00000000e+00,  0.00000000e+00,  0.00000000e+00,  0.00000000e+00,\n",
       "        0.00000000e+00,  0.00000000e+00,  0.00000000e+00,  0.00000000e+00,\n",
       "        0.00000000e+00,  0.00000000e+00,  0.00000000e+00,  0.00000000e+00,\n",
       "        0.00000000e+00,  0.00000000e+00,  0.00000000e+00,  0.00000000e+00,\n",
       "        0.00000000e+00,  0.00000000e+00,  0.00000000e+00,  0.00000000e+00,\n",
       "        0.00000000e+00,  0.00000000e+00,  0.00000000e+00,  0.00000000e+00,\n",
       "        0.00000000e+00,  0.00000000e+00,  0.00000000e+00,  0.00000000e+00,\n",
       "        0.00000000e+00,  0.00000000e+00,  0.00000000e+00,  0.00000000e+00,\n",
       "        0.00000000e+00,  0.00000000e+00])"
      ]
     },
     "execution_count": 146,
     "metadata": {},
     "output_type": "execute_result"
    }
   ],
   "source": [
    "df_I = to_array(dfI)\n",
    "print(len(df_I))\n",
    "df_I"
   ]
  },
  {
   "cell_type": "code",
   "execution_count": 147,
   "metadata": {},
   "outputs": [],
   "source": [
    "array_IV = []\n",
    "for i in range(len(df_V)):\n",
    "    if df_V[i] != 0:\n",
    "        array_IV += [[df_V[i], df_I[i]]]"
   ]
  },
  {
   "cell_type": "code",
   "execution_count": 148,
   "metadata": {},
   "outputs": [
    {
     "data": {
      "text/plain": [
       "150"
      ]
     },
     "execution_count": 148,
     "metadata": {},
     "output_type": "execute_result"
    }
   ],
   "source": [
    "len(np.array(array_IV)[:,1])"
   ]
  },
  {
   "cell_type": "raw",
   "metadata": {},
   "source": [
    "inpData=np.linspace(0,10,20).reshape(-1,2)\n",
    "inpData = np.array(array_IV)"
   ]
  },
  {
   "cell_type": "code",
   "execution_count": 162,
   "metadata": {},
   "outputs": [
    {
     "data": {
      "text/plain": [
       "Text(0, 0.5, 'Corrente [A]')"
      ]
     },
     "execution_count": 162,
     "metadata": {},
     "output_type": "execute_result"
    },
    {
     "data": {
      "image/png": "[encoded data removed]",
      "text/plain": [
       "<Figure size 432x288 with 1 Axes>"
      ]
     },
     "metadata": {
      "needs_background": "light"
     },
     "output_type": "display_data"
    }
   ],
   "source": [
    "import matplotlib.pyplot as plt\n",
    "I = np.array(array_IV)[:,1] # segunda coluna do dataframe, indice 1\n",
    "V = np.array(array_IV)[:,0] # primeira coluna do dataframe, indice 0\n",
    "plt.scatter(V, I)\n",
    "\n",
    "plt.xlabel('Tensão [V]')\n",
    "plt.ylabel('Corrente [A]')\n",
    "# plt.xlim([0, df_V.max()])"
   ]
  },
  {
   "cell_type": "code",
   "execution_count": 150,
   "metadata": {},
   "outputs": [],
   "source": [
    "import pvlib\n",
    "import numpy as np"
   ]
  },
  {
   "cell_type": "code",
   "execution_count": 151,
   "metadata": {},
   "outputs": [],
   "source": [
    "photocurrent, saturation_current, resistance_series, resistance_shunt, nNsVth = pvlib.ivtools.sde.fit_sandia_simple(V, I)"
   ]
  },
  {
   "cell_type": "raw",
   "metadata": {},
   "source": [
    "Return \n",
    "\n",
    "photocurrent : float\n",
    "    photocurrent [A]\n",
    "saturation_current : float\n",
    "    dark (saturation) current [A]\n",
    "resistance_series : float\n",
    "    series resistance [ohm]\n",
    "resistance_shunt : float\n",
    "    shunt (parallel) resistance [ohm]\n",
    "nNsVth : float"
   ]
  },
  {
   "cell_type": "code",
   "execution_count": 157,
   "metadata": {},
   "outputs": [
    {
     "data": {
      "text/plain": [
       "0.0008827084991433769"
      ]
     },
     "execution_count": 157,
     "metadata": {},
     "output_type": "execute_result"
    }
   ],
   "source": [
    "photocurrent # photocurrent [A]"
   ]
  },
  {
   "cell_type": "code",
   "execution_count": 158,
   "metadata": {},
   "outputs": [
    {
     "data": {
      "text/plain": [
       "6.087511039767829e-13"
      ]
     },
     "execution_count": 158,
     "metadata": {},
     "output_type": "execute_result"
    }
   ],
   "source": [
    "saturation_current # dark (saturation) current [A]"
   ]
  },
  {
   "cell_type": "code",
   "execution_count": 159,
   "metadata": {},
   "outputs": [
    {
     "data": {
      "text/plain": [
       "9.900909467374035"
      ]
     },
     "execution_count": 159,
     "metadata": {},
     "output_type": "execute_result"
    }
   ],
   "source": [
    "resistance_series # series resistance [ohm]"
   ]
  },
  {
   "cell_type": "code",
   "execution_count": 160,
   "metadata": {},
   "outputs": [
    {
     "data": {
      "text/plain": [
       "128795.3341261829"
      ]
     },
     "execution_count": 160,
     "metadata": {},
     "output_type": "execute_result"
    }
   ],
   "source": [
    "resistance_shunt # shunt (parallel) resistance [ohm]"
   ]
  },
  {
   "cell_type": "code",
   "execution_count": 156,
   "metadata": {},
   "outputs": [
    {
     "data": {
      "text/plain": [
       "0.046184677640298544"
      ]
     },
     "execution_count": 156,
     "metadata": {},
     "output_type": "execute_result"
    }
   ],
   "source": [
    "nNsVth"
   ]
  },
  {
   "cell_type": "code",
   "execution_count": null,
   "metadata": {},
   "outputs": [],
   "source": []
  },
  {
   "cell_type": "code",
   "execution_count": null,
   "metadata": {},
   "outputs": [],
   "source": []
  }
 ],
 "metadata": {
  "kernelspec": {
   "display_name": "Python 3",
   "language": "python",
   "name": "python3"
  },
  "language_info": {
   "codemirror_mode": {
    "name": "ipython",
    "version": 3
   },
   "file_extension": ".py",
   "mimetype": "text/x-python",
   "name": "python",
   "nbconvert_exporter": "python",
   "pygments_lexer": "ipython3",
   "version": "3.8.8"
  }
 },
 "nbformat": 4,
 "nbformat_minor": 4
}
